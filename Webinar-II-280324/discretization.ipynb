{
 "cells": [
  {
   "cell_type": "code",
   "execution_count": null,
   "id": "initial_id",
   "metadata": {
    "collapsed": true
   },
   "outputs": [],
   "source": [
    "import numpy\n",
    "\n",
    "import matplotlib.pyplot as plotter\n",
    "from sklearn.preprocessing import KBinsDiscretizer\n",
    "\n",
    "from data_generator import generate_uniform_dataset, generate_blobbed_dataset"
   ]
  },
  {
   "cell_type": "code",
   "outputs": [],
   "source": [
    "data_points = 200"
   ],
   "metadata": {
    "collapsed": false
   },
   "id": "562985a6fb87b0e1",
   "execution_count": null
  },
  {
   "cell_type": "code",
   "outputs": [],
   "source": [
    "uniform_dataset = generate_uniform_dataset(n_data_points=data_points)"
   ],
   "metadata": {
    "collapsed": false
   },
   "id": "c2b711da5b2a7343",
   "execution_count": null
  },
  {
   "cell_type": "code",
   "outputs": [],
   "source": [
    "# Show Dataset\n",
    "\n",
    "print(uniform_dataset)"
   ],
   "metadata": {
    "collapsed": false
   },
   "id": "8881fe5a7e4bed79",
   "execution_count": null
  },
  {
   "cell_type": "code",
   "outputs": [],
   "source": [
    "arr_x = numpy.array(uniform_dataset[:, 0])\n",
    "arr_y = numpy.array(uniform_dataset[:, 1])\n",
    "\n",
    "plotter.scatter(x=arr_x, y = arr_y)"
   ],
   "metadata": {
    "collapsed": false
   },
   "id": "1af8676fb37e4e04",
   "execution_count": null
  },
  {
   "cell_type": "code",
   "outputs": [],
   "source": [
    "blobbed_dataset = generate_blobbed_dataset(n_data_points=data_points,\n",
    "                                           n_blobs=4,\n",
    "                                           blob_std=0.1,\n",
    "                                           blob_centers=[[0.7, 0.2], \n",
    "                                                         [0.2, 0.1], \n",
    "                                                         [0.3, 0.8], \n",
    "                                                         [0.9, 0.9]],\n",
    "                                           size_blobs=[2, \n",
    "                                                       3, \n",
    "                                                       5, \n",
    "                                                       7])"
   ],
   "metadata": {
    "collapsed": false
   },
   "id": "1fbe4b965d08e77b",
   "execution_count": null
  },
  {
   "cell_type": "code",
   "outputs": [],
   "source": [
    "# Show Dataset\n",
    "\n",
    "print(blobbed_dataset)"
   ],
   "metadata": {
    "collapsed": false
   },
   "id": "f49208a53b300b58",
   "execution_count": null
  },
  {
   "cell_type": "code",
   "outputs": [],
   "source": [
    "arr_x = numpy.array(blobbed_dataset[:, 0])\n",
    "arr_y = numpy.array(blobbed_dataset[:, 1])\n",
    "\n",
    "plotter.scatter(x=arr_x, y = arr_y)"
   ],
   "metadata": {
    "collapsed": false
   },
   "id": "e07f2fcf6cb88342",
   "execution_count": null
  },
  {
   "cell_type": "code",
   "outputs": [],
   "source": [
    "strategy_uniform = \"uniform\" \n",
    "strategy_quantile = \"quantile\" \n",
    "strategy_kmeans = \"kmeans\" \n",
    "\n",
    "# Use for quantile\n",
    "sub_sample_quantile = 200_000\n",
    "\n",
    "# Use for kmeans or uniform\n",
    "sub_sample_others = None"
   ],
   "metadata": {
    "collapsed": false
   },
   "id": "f5a88ccdb685e3d1",
   "execution_count": null
  },
  {
   "cell_type": "code",
   "outputs": [],
   "source": [
    "enc = KBinsDiscretizer(n_bins=4, \n",
    "                       encode=\"ordinal\", \n",
    "                       strategy=\"kmeans\", \n",
    "                       subsample=sub_sample_quantile)\n",
    "enc.fit(uniform_dataset)\n",
    "gd_data = enc.transform(uniform_dataset)"
   ],
   "metadata": {
    "collapsed": false
   },
   "id": "9e0babbfe43b50d6",
   "execution_count": null
  },
  {
   "cell_type": "code",
   "outputs": [],
   "source": [
    "print(gd_data)"
   ],
   "metadata": {
    "collapsed": false
   },
   "id": "32c31b300525ad0b",
   "execution_count": null
  },
  {
   "cell_type": "code",
   "outputs": [],
   "source": [
    "uniform_dataset = generate_uniform_dataset(n_data_points=100)\n",
    "\n",
    "blobbed_dataset_0 = generate_blobbed_dataset(n_data_points=data_points,\n",
    "                                             n_blobs=2,\n",
    "                                             blob_std=0.1,\n",
    "                                             blob_centers=[[0.1, 0.1], \n",
    "                                                           [0.9, 0.1]],\n",
    "                                             size_blobs=[3, \n",
    "                                                         5])\n",
    "\n",
    "blobbed_dataset_1 = generate_blobbed_dataset(n_data_points=data_points,\n",
    "                                             n_blobs=3,\n",
    "                                             blob_std=0.15,\n",
    "                                             blob_centers=[[0.7, 0.2], \n",
    "                                                           [0.2, 0.1], \n",
    "                                                           [0.3, 0.8]],\n",
    "                                             size_blobs=[2, \n",
    "                                                         3, \n",
    "                                                         12])"
   ],
   "metadata": {
    "collapsed": false
   },
   "id": "deaff0798e3ae2aa",
   "execution_count": null
  },
  {
   "cell_type": "code",
   "outputs": [],
   "source": [
    "datasets = [uniform_dataset, \n",
    "            blobbed_dataset_0, \n",
    "            blobbed_dataset_1]\n",
    "\n",
    "strategies = [strategy_uniform,\n",
    "              strategy_quantile,\n",
    "              strategy_kmeans]\n",
    "\n",
    "n_bins = 2"
   ],
   "metadata": {
    "collapsed": false
   },
   "id": "2ee1fc69302563f0",
   "execution_count": null
  },
  {
   "cell_type": "code",
   "outputs": [],
   "source": [
    "figure = plotter.figure(figsize=(14, 9))\n",
    "i = 1\n",
    "for ds_cnt, X in enumerate(datasets):\n",
    "    ax = plotter.subplot(len(datasets), len(strategies) + 1, i)\n",
    "    ax.scatter(X[:, 0], X[:, 1], edgecolors=\"k\")\n",
    "    if ds_cnt == 0:\n",
    "        ax.set_title(\"Input data\", size=14)\n",
    "\n",
    "    xx, yy = numpy.meshgrid(\n",
    "        numpy.linspace(X[:, 0].min(), X[:, 0].max(), 300),\n",
    "        numpy.linspace(X[:, 1].min(), X[:, 1].max(), 300),\n",
    "    )\n",
    "    grid = numpy.c_[xx.ravel(), yy.ravel()]\n",
    "\n",
    "    ax.set_xlim(xx.min(), xx.max())\n",
    "    ax.set_ylim(yy.min(), yy.max())\n",
    "    ax.set_xticks(())\n",
    "    ax.set_yticks(())\n",
    "\n",
    "    i += 1\n",
    "    # transform the dataset with KBinsDiscretizer\n",
    "    for strategy in strategies:\n",
    "        enc = KBinsDiscretizer(\n",
    "            n_bins=n_bins, encode=\"ordinal\", strategy=strategy, subsample=200_000\n",
    "        )\n",
    "        enc.fit(X)\n",
    "        grid_encoded = enc.transform(grid)\n",
    "\n",
    "        ax = plotter.subplot(len(datasets), len(strategies) + 1, i)\n",
    "\n",
    "        # horizontal stripes\n",
    "        horizontal = grid_encoded[:, 0].reshape(xx.shape)\n",
    "        ax.contourf(xx, yy, horizontal, alpha=0.5)\n",
    "        # vertical stripes\n",
    "        vertical = grid_encoded[:, 1].reshape(xx.shape)\n",
    "        ax.contourf(xx, yy, vertical, alpha=0.5)\n",
    "\n",
    "        ax.scatter(X[:, 0], X[:, 1], edgecolors=\"k\")\n",
    "        ax.set_xlim(xx.min(), xx.max())\n",
    "        ax.set_ylim(yy.min(), yy.max())\n",
    "        ax.set_xticks(())\n",
    "        ax.set_yticks(())\n",
    "        if ds_cnt == 0:\n",
    "            ax.set_title(\"strategy='%s'\" % (strategy,), size=14)\n",
    "\n",
    "        i += 1\n",
    "\n",
    "plotter.tight_layout()\n",
    "plotter.show()\n",
    "\n",
    "# Source: https://scikit-learn.org/stable/auto_examples/preprocessing/plot_discretization_strategies.html#sphx-glr-auto-examples-preprocessing-plot-discretization-strategies-py"
   ],
   "metadata": {
    "collapsed": false
   },
   "id": "17417ac6ac03eff9",
   "execution_count": null
  }
 ],
 "metadata": {
  "kernelspec": {
   "display_name": "Python 3",
   "language": "python",
   "name": "python3"
  },
  "language_info": {
   "codemirror_mode": {
    "name": "ipython",
    "version": 2
   },
   "file_extension": ".py",
   "mimetype": "text/x-python",
   "name": "python",
   "nbconvert_exporter": "python",
   "pygments_lexer": "ipython2",
   "version": "2.7.6"
  }
 },
 "nbformat": 4,
 "nbformat_minor": 5
}
