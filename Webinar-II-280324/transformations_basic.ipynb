{
 "cells": [
  {
   "cell_type": "code",
   "outputs": [],
   "source": [
    "import numpy\n",
    "from pandas import DataFrame\n",
    "from matplotlib import pyplot as plotter\n",
    "\n",
    "from transformations import normalize_dataset\n",
    "from data_generator import generate_skewed_data_right, generate_skewed_data_left, generate_extreme_skewed_data_right"
   ],
   "metadata": {
    "collapsed": false
   },
   "id": "9ebf22c3433966bd",
   "execution_count": null
  },
  {
   "cell_type": "code",
   "outputs": [],
   "source": [
    "feature_a = 'feature_a'\n",
    "feature_b = 'feature_b'\n",
    "feature_c = 'feature_c'\n",
    "\n",
    "sqrt = \"SQRT\"\n",
    "log = \"LOG\"\n",
    "reverse = \"1/N\""
   ],
   "metadata": {
    "collapsed": false
   },
   "id": "bf29a585765aea02",
   "execution_count": null
  },
  {
   "cell_type": "code",
   "outputs": [],
   "source": [
    "# Variables\n",
    "\n",
    "plot_hist_color = 'cyan'\n",
    "plot_hist_alpha = 0.63\n",
    "plot_bar_count = 1000\n",
    "\n",
    "size = 100000"
   ],
   "metadata": {
    "collapsed": false
   },
   "id": "427d88adaff9081c",
   "execution_count": null
  },
  {
   "cell_type": "code",
   "outputs": [],
   "source": [
    "df_data = DataFrame({feature_a: generate_skewed_data_left(size=size),\n",
    "                     feature_b: generate_skewed_data_right(size=size),\n",
    "                     feature_c: generate_extreme_skewed_data_right(size=size)})\n",
    "\n",
    "df_data = normalize_dataset(df=df_data, \n",
    "                            all_pos=True)"
   ],
   "metadata": {
    "collapsed": false
   },
   "id": "98953e5840227807",
   "execution_count": null
  },
  {
   "cell_type": "code",
   "outputs": [],
   "source": [
    "df_data.head()"
   ],
   "metadata": {
    "collapsed": false
   },
   "id": "fed5f9ffffaa76f8",
   "execution_count": null
  },
  {
   "cell_type": "code",
   "outputs": [],
   "source": [
    "# Plot Feature A\n",
    "\n",
    "plotter.hist(df_data['feature_a'], \n",
    "             plot_bar_count, \n",
    "             density=True, \n",
    "             color=plot_hist_color, \n",
    "             alpha=plot_hist_alpha);"
   ],
   "metadata": {
    "collapsed": false
   },
   "id": "fc881d581c387792",
   "execution_count": null
  },
  {
   "cell_type": "code",
   "outputs": [],
   "source": [
    "plotter.hist(df_data['feature_b'], \n",
    "             plot_bar_count, \n",
    "             density=True, \n",
    "             color=plot_hist_color, \n",
    "             alpha=plot_hist_alpha);"
   ],
   "metadata": {
    "collapsed": false
   },
   "id": "2410770500cfcf61",
   "execution_count": null
  },
  {
   "cell_type": "code",
   "outputs": [],
   "source": [
    "plotter.hist(df_data['feature_c'], \n",
    "             plot_bar_count, \n",
    "             density=True, \n",
    "             color=plot_hist_color, \n",
    "             alpha=plot_hist_alpha);"
   ],
   "metadata": {
    "collapsed": false
   },
   "id": "6b12ca65a4f09a0e",
   "execution_count": null
  },
  {
   "cell_type": "code",
   "outputs": [],
   "source": [
    "# Apply Transformations on all Features\n",
    "#   * Sqrt Transformation\n",
    "#   * Logarithmic Transformation\n",
    "#   * 1/N Transformation\n",
    "\n",
    "for column in df_data:\n",
    "    df_data[column + \"_\" + sqrt] = numpy.sqrt(df_data[column])\n",
    "    df_data[column + \"_\" + log] = numpy.log2(df_data[column])\n",
    "    df_data[column + \"_\" + reverse] = numpy.power(df_data[column], -1.0)  \n"
   ],
   "metadata": {
    "collapsed": false
   },
   "id": "160fcc5a67431248",
   "execution_count": null
  },
  {
   "cell_type": "code",
   "outputs": [],
   "source": [
    "# Show Plots\n",
    "#   * Sqrt on Feature A \n",
    "\n",
    "plotter.hist(df_data[feature_a + \"_\" + sqrt], \n",
    "             plot_bar_count, \n",
    "             density=True, \n",
    "             color=plot_hist_color, \n",
    "             alpha=plot_hist_alpha);"
   ],
   "metadata": {
    "collapsed": false
   },
   "id": "bbe9aec2ad944b51",
   "execution_count": null
  },
  {
   "cell_type": "code",
   "outputs": [],
   "source": [
    "# Show Plots\n",
    "#   * Log on Feature A \n",
    "\n",
    "plotter.hist(df_data[feature_a + \"_\" + log], \n",
    "             plot_bar_count, \n",
    "             range=(-1.0, 0.0), \n",
    "             density=True, \n",
    "             color=plot_hist_color, \n",
    "             alpha=plot_hist_alpha);"
   ],
   "metadata": {
    "collapsed": false
   },
   "id": "27de24f18a0f56a5",
   "execution_count": null
  },
  {
   "cell_type": "code",
   "outputs": [],
   "source": [
    "# Show Plots\n",
    "#   * Reverse on Feature A \n",
    "\n",
    "plotter.hist(df_data[feature_a + \"_\" + reverse], \n",
    "             plot_bar_count, \n",
    "             range=(1.0, 3.0), \n",
    "             density=True, \n",
    "             color=plot_hist_color, \n",
    "             alpha=plot_hist_alpha);"
   ],
   "metadata": {
    "collapsed": false
   },
   "id": "c4c0fe2f0e48b79f",
   "execution_count": null
  },
  {
   "cell_type": "code",
   "outputs": [],
   "source": [
    "df_data.head(1000)"
   ],
   "metadata": {
    "collapsed": false
   },
   "id": "10be9a26bd812eac",
   "execution_count": null
  },
  {
   "cell_type": "code",
   "outputs": [],
   "source": [
    "# Show Plots\n",
    "#   * Sqrt on Feature B \n",
    "\n",
    "plotter.hist(df_data[feature_b + \"_\" + sqrt], \n",
    "             plot_bar_count, \n",
    "             density=True, \n",
    "             color=plot_hist_color, \n",
    "             alpha=plot_hist_alpha);"
   ],
   "metadata": {
    "collapsed": false
   },
   "id": "347bf1dccb8b2526",
   "execution_count": null
  },
  {
   "cell_type": "code",
   "outputs": [],
   "source": [
    "# Show Plots\n",
    "#   * Log on Feature B \n",
    "\n",
    "plotter.hist(df_data[feature_b + \"_\" + log], \n",
    "             plot_bar_count, \n",
    "             range= (-5.0, 0.0), \n",
    "             density=True, \n",
    "             color=plot_hist_color, \n",
    "             alpha=plot_hist_alpha);"
   ],
   "metadata": {
    "collapsed": false
   },
   "id": "f57b7d86bfc1e582",
   "execution_count": null
  },
  {
   "cell_type": "code",
   "outputs": [],
   "source": [
    "# Show Plots\n",
    "#   * Reverse on Feature B \n",
    "\n",
    "plotter.hist(df_data[feature_b + \"_\" + reverse], \n",
    "             plot_bar_count, \n",
    "             range=(0.0, 20.0), \n",
    "             density=True, \n",
    "             color=plot_hist_color, \n",
    "             alpha=plot_hist_alpha);"
   ],
   "metadata": {
    "collapsed": false
   },
   "id": "64347cc4f9063cf4",
   "execution_count": null
  },
  {
   "cell_type": "code",
   "outputs": [],
   "source": [
    "# Show Plots\n",
    "#   * Sqrt on Feature C \n",
    "\n",
    "plotter.hist(df_data[feature_c + \"_\" + sqrt], \n",
    "             plot_bar_count, \n",
    "             density=True, \n",
    "             color=plot_hist_color, \n",
    "             alpha=plot_hist_alpha);"
   ],
   "metadata": {
    "collapsed": false
   },
   "id": "400db10aa4830224",
   "execution_count": null
  },
  {
   "cell_type": "code",
   "outputs": [],
   "source": [
    "# Show Plots\n",
    "#   * Log on Feature C \n",
    "\n",
    "plotter.hist(df_data[feature_c + \"_\" + log], \n",
    "             plot_bar_count, \n",
    "             density=True, \n",
    "             color=plot_hist_color, \n",
    "             alpha=plot_hist_alpha);"
   ],
   "metadata": {
    "collapsed": false
   },
   "id": "f239f4f69d389d9c",
   "execution_count": null
  },
  {
   "cell_type": "code",
   "outputs": [],
   "source": [
    "# Show Plots\n",
    "#   * Reverse on Feature C \n",
    "\n",
    "plotter.hist(df_data[feature_c + \"_\" + reverse], \n",
    "             plot_bar_count, \n",
    "             range=(0.0, 1000.0), \n",
    "             density=True, \n",
    "             color=plot_hist_color, \n",
    "             alpha=plot_hist_alpha);"
   ],
   "metadata": {
    "collapsed": false
   },
   "id": "e457a440ed4faa81",
   "execution_count": null
  }
 ],
 "metadata": {
  "kernelspec": {
   "display_name": "Python 3",
   "language": "python",
   "name": "python3"
  },
  "language_info": {
   "codemirror_mode": {
    "name": "ipython",
    "version": 2
   },
   "file_extension": ".py",
   "mimetype": "text/x-python",
   "name": "python",
   "nbconvert_exporter": "python",
   "pygments_lexer": "ipython2",
   "version": "2.7.6"
  }
 },
 "nbformat": 4,
 "nbformat_minor": 5
}
