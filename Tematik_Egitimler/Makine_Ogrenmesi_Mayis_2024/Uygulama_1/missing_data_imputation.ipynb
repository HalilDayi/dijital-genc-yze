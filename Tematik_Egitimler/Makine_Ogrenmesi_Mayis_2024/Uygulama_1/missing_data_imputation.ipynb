{
 "cells": [
  {
   "cell_type": "code",
   "metadata": {
    "ExecuteTime": {
     "end_time": "2024-05-29T13:47:34.232850Z",
     "start_time": "2024-05-29T13:47:34.076957Z"
    }
   },
   "source": [
    "import pandas\n",
    "from utils_missing_data import (sub_dataframe,\n",
    "                                generate_class_labels,\n",
    "                                test_data_classification,\n",
    "                                introduce_nans,\n",
    "                                report_completeness,\n",
    "                                test_data_regression,\n",
    "                                plot_results)"
   ],
   "outputs": [],
   "execution_count": 1
  },
  {
   "cell_type": "code",
   "metadata": {
    "ExecuteTime": {
     "end_time": "2024-05-29T13:47:34.261665Z",
     "start_time": "2024-05-29T13:47:34.234240Z"
    }
   },
   "source": [
    "source_file = \"data/ankara_aq_data.csv\"\n",
    "\n",
    "nan_row_ratio = 0.99\n",
    "nan_ratio = 0.9\n",
    "nan_border = 0.0\n",
    "\n",
    "ankara_data = pandas.read_csv(source_file)\n",
    "ankara_data.head()\n",
    "\n",
    "print(\"------- COMPLETENESS ------\")\n",
    "report_completeness(ankara_data)\n",
    "print(\"---------------------------\")"
   ],
   "outputs": [
    {
     "name": "stdout",
     "output_type": "stream",
     "text": [
      "------- COMPLETENESS ------\n",
      "Overall: 100.0 - COMP ROW: 4721 - COMP ROW PERC%: 100.0\n",
      "---------------------------\n"
     ]
    }
   ],
   "execution_count": 2
  },
  {
   "cell_type": "code",
   "metadata": {
    "ExecuteTime": {
     "end_time": "2024-05-29T13:47:34.302123Z",
     "start_time": "2024-05-29T13:47:34.263555Z"
    }
   },
   "source": [
    "# Report all columns\n",
    "\n",
    "print(\"--------- COLUMNS ---------\")\n",
    "print(ankara_data.columns)\n",
    "print(\"---------------------------\")"
   ],
   "outputs": [
    {
     "name": "stdout",
     "output_type": "stream",
     "text": [
      "--------- COLUMNS ---------\n",
      "Index(['Unnamed: 0', 'S1_PM10', 'S1_PM25', 'S1_SO2', 'S1_NO2', 'S1_NOX',\n",
      "       'S1_NO', 'S2_PM10', 'S2_PM25', 'S2_SO2', 'S2_CO', 'S2_03', 'S5_PM10',\n",
      "       'S5_CO', 'S7_PM10', 'S9_PM10', 'S9_SO2', 'S9_NO2', 'S9_NOX', 'S9_NO',\n",
      "       'S10_PM10', 'S10_PM25', 'S10_CO', 'S11_PM10', 'S12_CO', 'S13_PM10',\n",
      "       'S13_PM25', 'S13_SO2', 'S14_PM10', 'S14_PM25', 'S14_SO2', 'S14_NO2',\n",
      "       'S14_NOX', 'S14_NO', 'S15_PM10', 'S15_SO2', 'S15_NO2', 'S15_NOX',\n",
      "       'S15_NO', 'S15_O3', 'S17_PM10', 'S17_PM25', 'S17_SO2', 'S17_NO2',\n",
      "       'S17_NOX', 'S17_NO', 'S17_O3'],\n",
      "      dtype='object')\n",
      "---------------------------\n"
     ]
    }
   ],
   "execution_count": 3
  },
  {
   "cell_type": "code",
   "source": [
    "stations = [\"S\" + str(x) for x in range(1, 18)]\n",
    "\n",
    "print(\"\\nPollutant sensors of each station: \\n\")\n",
    "\n",
    "for station in stations:\n",
    "    colms_str = \"\"\n",
    "    for col in sub_dataframe(df=ankara_data, station=station).columns.tolist():\n",
    "        colms_str += str(col) + \" - \"\n",
    "    print(station + \"\\t: \" + colms_str[:-3])\n",
    "\n",
    "#print(sub_dataframe(ankara_data, station=\"S1\"))"
   ],
   "metadata": {
    "collapsed": false,
    "ExecuteTime": {
     "end_time": "2024-05-29T13:47:34.624810Z",
     "start_time": "2024-05-29T13:47:34.303862Z"
    }
   },
   "outputs": [
    {
     "name": "stdout",
     "output_type": "stream",
     "text": [
      "\n",
      "Pollutant sensors of each station: \n",
      "\n",
      "S1\t: S1_PM10 - S1_PM25 - S1_SO2 - S1_NO2 - S1_NOX - S1_NO\n",
      "S2\t: S2_PM10 - S2_PM25 - S2_SO2 - S2_CO - S2_03\n",
      "S3\t: \n",
      "S4\t: \n",
      "S5\t: S5_PM10 - S5_CO\n",
      "S6\t: \n",
      "S7\t: S7_PM10\n",
      "S8\t: \n",
      "S9\t: S9_PM10 - S9_SO2 - S9_NO2 - S9_NOX - S9_NO\n",
      "S10\t: S10_PM10 - S10_PM25 - S10_CO\n",
      "S11\t: S11_PM10\n",
      "S12\t: S12_CO\n",
      "S13\t: S13_PM10 - S13_PM25 - S13_SO2\n",
      "S14\t: S14_PM10 - S14_PM25 - S14_SO2 - S14_NO2 - S14_NOX - S14_NO\n",
      "S15\t: S15_PM10 - S15_SO2 - S15_NO2 - S15_NOX - S15_NO - S15_O3\n",
      "S16\t: \n",
      "S17\t: S17_PM10 - S17_PM25 - S17_SO2 - S17_NO2 - S17_NOX - S17_NO - S17_O3\n"
     ]
    }
   ],
   "execution_count": 4
  },
  {
   "cell_type": "code",
   "source": [
    "print(\"\\nColumns with more than 5 pollutant sensors: \\n\")\n",
    "for station in stations:\n",
    "    if len(sub_dataframe(df=ankara_data, station=station).columns.tolist()) >= 5:\n",
    "        print(\"\\t\" + station)"
   ],
   "metadata": {
    "collapsed": false,
    "ExecuteTime": {
     "end_time": "2024-05-29T13:47:34.846020Z",
     "start_time": "2024-05-29T13:47:34.625982Z"
    }
   },
   "outputs": [
    {
     "name": "stdout",
     "output_type": "stream",
     "text": [
      "\n",
      "Columns with more than 5 pollutant sensors: \n",
      "\n",
      "\tS1\n",
      "\tS2\n",
      "\tS9\n",
      "\tS14\n",
      "\tS15\n",
      "\tS17\n"
     ]
    }
   ],
   "execution_count": 5
  },
  {
   "cell_type": "code",
   "metadata": {
    "ExecuteTime": {
     "end_time": "2024-05-29T13:47:34.923468Z",
     "start_time": "2024-05-29T13:47:34.847339Z"
    }
   },
   "source": [
    "# Create Sub-frames\n",
    "\n",
    "s1_data = sub_dataframe(df=ankara_data, \n",
    "                        station='S1')\n",
    "s2_data = sub_dataframe(df=ankara_data, \n",
    "                        station='S2')\n",
    "s9_data = sub_dataframe(df=ankara_data, \n",
    "                        station='S9')\n",
    "s14_data = sub_dataframe(df=ankara_data, \n",
    "                         station='S14')\n",
    "s15_data = sub_dataframe(df=ankara_data, \n",
    "                         station='S15')\n",
    "s17_data = sub_dataframe(df=ankara_data, \n",
    "                         station='S17')"
   ],
   "outputs": [],
   "execution_count": 6
  },
  {
   "cell_type": "code",
   "metadata": {
    "ExecuteTime": {
     "end_time": "2024-05-29T13:47:38.449173Z",
     "start_time": "2024-05-29T13:47:34.924743Z"
    }
   },
   "source": [
    "# Lets introduce some NaN values\n",
    "\n",
    "temp_export_directory = \"data/temp_export_dir/\"\n",
    "\n",
    "s1_data_org = s1_data.copy()\n",
    "s2_data_org = s2_data.copy()\n",
    "s9_data_org = s9_data.copy()\n",
    "s14_data_org = s14_data.copy()\n",
    "s15_data_org = s15_data.copy()\n",
    "s17_data_org = s17_data.copy()\n",
    "\n",
    "s1_data_nanned = introduce_nans(df=s1_data, row_ratio= nan_row_ratio, ratio=nan_ratio,  border=nan_border)\n",
    "s2_data_nanned = introduce_nans(df=s2_data, row_ratio= nan_row_ratio, ratio=nan_ratio,  border=nan_border)\n",
    "s9_data_nanned = introduce_nans(df=s9_data, row_ratio= nan_row_ratio, ratio=nan_ratio,  border=nan_border)\n",
    "s14_data_nanned = introduce_nans(df=s14_data, row_ratio= nan_row_ratio, ratio=nan_ratio,  border=nan_border)\n",
    "s15_data_nanned = introduce_nans(df=s15_data, row_ratio= nan_row_ratio, ratio=nan_ratio,  border=nan_border)\n",
    "s17_data_nanned = introduce_nans(df=s17_data, row_ratio= nan_row_ratio, ratio=nan_ratio,  border=nan_border)\n"
   ],
   "outputs": [],
   "execution_count": 7
  },
  {
   "cell_type": "code",
   "source": [
    "# Export Nanned and Original Data to CSV for inspection\n",
    "\n",
    "s1_data_nanned.to_csv(temp_export_directory + \"nanned.csv\")\n",
    "s1_data_org.to_csv(temp_export_directory + \"org.csv\")"
   ],
   "metadata": {
    "collapsed": false,
    "ExecuteTime": {
     "end_time": "2024-05-29T13:47:38.490452Z",
     "start_time": "2024-05-29T13:47:38.450596Z"
    }
   },
   "outputs": [],
   "execution_count": 8
  },
  {
   "cell_type": "code",
   "source": [
    "data_collection = [[s1_data_nanned, s1_data_org],\n",
    "[s2_data_nanned, s2_data_org],\n",
    "[s9_data_nanned, s9_data_org],\n",
    "[s14_data_nanned, s14_data_org], \n",
    "[s15_data_nanned, s15_data_org],\n",
    "[s17_data_nanned, s17_data_org]]"
   ],
   "metadata": {
    "collapsed": false,
    "ExecuteTime": {
     "end_time": "2024-05-29T13:47:38.533071Z",
     "start_time": "2024-05-29T13:47:38.493851Z"
    }
   },
   "outputs": [],
   "execution_count": 9
  },
  {
   "cell_type": "code",
   "source": [
    "# Show Data Completeness\n",
    "for data in data_collection:\n",
    "    print(\"\\n ...\")\n",
    "    print(\"Nanned Data Completeness\")\n",
    "    report_completeness(df=data[0], detail=True)\n",
    "    print(\"\\n --------\")"
   ],
   "metadata": {
    "collapsed": false,
    "ExecuteTime": {
     "end_time": "2024-05-29T13:47:38.646288Z",
     "start_time": "2024-05-29T13:47:38.534574Z"
    }
   },
   "outputs": [
    {
     "name": "stdout",
     "output_type": "stream",
     "text": [
      "\n",
      " ...\n",
      "Nanned Data Completeness\n",
      "Overall completeness: 17.44333827578903\n",
      "S1_PM10 - 18.47066299512815\n",
      "S1_PM25 - 17.708112687989825\n",
      "S1_SO2 - 16.81847066299514\n",
      "S1_NO2 - 17.220927769540353\n",
      "S1_NOX - 17.220927769540353\n",
      "S1_NO - 17.220927769540353\n",
      "COMP ROW COUNT: 44\n",
      "COMP ROW PERC%: 0.9320059309468334\n",
      "\n",
      " --------\n",
      "\n",
      " ...\n",
      "Nanned Data Completeness\n",
      "Overall completeness: 21.050624867612797\n",
      "S2_PM10 - 20.97013344630375\n",
      "S2_PM25 - 20.97013344630375\n",
      "S2_SO2 - 20.715950010590973\n",
      "S2_CO - 21.24549883499259\n",
      "S2_03 - 21.35140859987291\n",
      "COMP ROW COUNT: 62\n",
      "COMP ROW PERC%: 1.3132810845159923\n",
      "\n",
      " --------\n",
      "\n",
      " ...\n",
      "Nanned Data Completeness\n",
      "Overall completeness: 20.86422368142344\n",
      "S9_PM10 - 21.584410082609622\n",
      "S9_SO2 - 21.66913789451388\n",
      "S9_NO2 - 19.656852361787756\n",
      "S9_NOX - 20.56767633975852\n",
      "S9_NO - 20.84304172844736\n",
      "COMP ROW COUNT: 51\n",
      "COMP ROW PERC%: 1.080279601779284\n",
      "\n",
      " --------\n",
      "\n",
      " ...\n",
      "Nanned Data Completeness\n",
      "Overall completeness: 17.566899668149404\n",
      "S14_PM10 - 18.216479559415376\n",
      "S14_PM25 - 17.263291675492482\n",
      "S14_SO2 - 17.19974581656429\n",
      "S14_NO2 - 17.602202923109516\n",
      "S14_NOX - 17.263291675492482\n",
      "S14_NO - 17.85638635882229\n",
      "COMP ROW COUNT: 51\n",
      "COMP ROW PERC%: 1.080279601779284\n",
      "\n",
      " --------\n",
      "\n",
      " ...\n",
      "Nanned Data Completeness\n",
      "Overall completeness: 17.566899668149404\n",
      "S15_PM10 - 17.64456682906163\n",
      "S15_SO2 - 17.835204405846213\n",
      "S15_NO2 - 17.496293158229193\n",
      "S15_NOX - 17.77165854691802\n",
      "S15_NO - 17.66574878203771\n",
      "S15_O3 - 16.987926286803642\n",
      "COMP ROW COUNT: 51\n",
      "COMP ROW PERC%: 1.080279601779284\n",
      "\n",
      " --------\n",
      "\n",
      " ...\n",
      "Nanned Data Completeness\n",
      "Overall completeness: 15.120888431627677\n",
      "S17_PM10 - 15.568735437407327\n",
      "S17_PM25 - 14.700275365388691\n",
      "S17_SO2 - 16.81847066299514\n",
      "S17_NO2 - 14.128362635034946\n",
      "S17_NOX - 14.085998729082817\n",
      "S17_NO - 15.67464520228765\n",
      "S17_O3 - 14.869730989197208\n",
      "COMP ROW COUNT: 46\n",
      "COMP ROW PERC%: 0.9743698368989621\n",
      "\n",
      " --------\n"
     ]
    }
   ],
   "execution_count": 10
  },
  {
   "cell_type": "code",
   "source": [
    "for data in data_collection:\n",
    "    report_completeness(df=data[0])"
   ],
   "metadata": {
    "collapsed": false,
    "ExecuteTime": {
     "end_time": "2024-05-29T13:47:39.015932Z",
     "start_time": "2024-05-29T13:47:38.647843Z"
    }
   },
   "outputs": [
    {
     "name": "stdout",
     "output_type": "stream",
     "text": [
      "Overall: 17.44333827578903 - COMP ROW: 44 - COMP ROW PERC%: 0.9320059309468334\n",
      "Overall: 21.050624867612797 - COMP ROW: 62 - COMP ROW PERC%: 1.3132810845159923\n",
      "Overall: 20.86422368142344 - COMP ROW: 51 - COMP ROW PERC%: 1.080279601779284\n",
      "Overall: 17.566899668149404 - COMP ROW: 51 - COMP ROW PERC%: 1.080279601779284\n",
      "Overall: 17.566899668149404 - COMP ROW: 51 - COMP ROW PERC%: 1.080279601779284\n",
      "Overall: 15.120888431627677 - COMP ROW: 46 - COMP ROW PERC%: 0.9743698368989621\n"
     ]
    }
   ],
   "execution_count": 11
  },
  {
   "cell_type": "code",
   "metadata": {
    "ExecuteTime": {
     "end_time": "2024-05-29T13:47:40.729263Z",
     "start_time": "2024-05-29T13:47:39.017195Z"
    }
   },
   "source": [
    "# Export Data to Temporary Csv Files\n",
    "\n",
    "export_enabled = True\n",
    "\n",
    "if export_enabled:\n",
    "    exp_s1_data = generate_class_labels(s1_data_org)\n",
    "    exp_s2_data = generate_class_labels(s2_data_org)\n",
    "    exp_s9_data = generate_class_labels(s9_data_org)\n",
    "    exp_s14_data = generate_class_labels(s14_data_org)\n",
    "    exp_s15_data = generate_class_labels(s15_data_org)\n",
    "    exp_s17_data = generate_class_labels(s17_data_org)\n",
    "\n",
    "    exp_s1_data.to_csv(temp_export_directory + \"station_1_org.csv\")\n",
    "    exp_s2_data.to_csv(temp_export_directory + \"station_2_org.csv\")\n",
    "    exp_s9_data.to_csv(temp_export_directory + \"station_9_org.csv\")\n",
    "    exp_s14_data.to_csv(temp_export_directory + \"station_14_org.csv\")\n",
    "    exp_s15_data.to_csv(temp_export_directory + \"station_15_org.csv\")\n",
    "    exp_s17_data.to_csv(temp_export_directory + \"station_17_org.csv\")\n",
    "\n",
    "    s1_data_nanned.to_csv(temp_export_directory + \"station_1_nanned.csv\")\n",
    "    s2_data_nanned.to_csv(temp_export_directory + \"station_2_nanned.csv\")\n",
    "    s9_data_nanned.to_csv(temp_export_directory + \"station_9_nanned.csv\")\n",
    "    s14_data_nanned.to_csv(temp_export_directory + \"station_14_nanned.csv\")\n",
    "    s15_data_nanned.to_csv(temp_export_directory + \"station_15_nanned.csv\")\n",
    "    s17_data_nanned.to_csv(temp_export_directory + \"station_17_nanned.csv\")\n"
   ],
   "outputs": [],
   "execution_count": 12
  },
  {
   "cell_type": "code",
   "metadata": {
    "ExecuteTime": {
     "end_time": "2024-05-29T13:48:26.076710Z",
     "start_time": "2024-05-29T13:47:40.730538Z"
    }
   },
   "source": [
    "results_classification = []\n",
    "\n",
    "data_out = False\n",
    "\n",
    "for active_data_tuple in data_collection:\n",
    "    # For each data, use missing value estimation methods separetely and get classification results\n",
    "\n",
    "    active_data = active_data_tuple[0]\n",
    "    original_data = generate_class_labels(active_data_tuple[1])\n",
    "    #print(\"Label Counts: \" + str(original_data['OUT'].value_counts()))\n",
    "\n",
    "    # Drop NA\n",
    "    data_drop_na = active_data.dropna()\n",
    "    data_drop_na = generate_class_labels(df=data_drop_na)\n",
    "    rmse_drop_na = test_data_classification(df=data_drop_na,\n",
    "                                            df_org=original_data,\n",
    "                                            data_out=data_out)\n",
    "\n",
    "    # Mean Imputation \n",
    "    data_imputed_mean = active_data.copy()\n",
    "    for col in data_imputed_mean.columns:\n",
    "        data_imputed_mean[col] = data_imputed_mean[col].fillna(data_imputed_mean.loc[:,col].mean())\n",
    "    data_imputed_mean = generate_class_labels(df=data_imputed_mean)\n",
    "    rmse_mean = test_data_classification(df=data_imputed_mean,\n",
    "                                         df_org=original_data,\n",
    "                                         data_out=data_out)\n",
    "\n",
    "    # Zero Imputation \n",
    "    data_imputed_zero = active_data.copy()\n",
    "    for col in data_imputed_zero.columns:\n",
    "        data_imputed_zero[col] = data_imputed_zero[col].fillna(0)\n",
    "    data_imputed_zero = generate_class_labels(df=data_imputed_zero)\n",
    "    rmse_zero = test_data_classification(df=data_imputed_zero,\n",
    "                                         df_org=original_data,\n",
    "                                         data_out=data_out)\n",
    "\n",
    "    # Bfill Imputation\n",
    "    data_imputed_bfill = active_data.bfill().ffill()\n",
    "    data_imputed_bfill = generate_class_labels(df=data_imputed_bfill)\n",
    "    rmse_bfill = test_data_classification(df=data_imputed_bfill,\n",
    "                                          df_org=original_data,\n",
    "                                          data_out=data_out)\n",
    "\n",
    "    # FFill Imputation\n",
    "    data_imputed_ffill = active_data.ffill().bfill()\n",
    "    data_imputed_ffill = generate_class_labels(df=data_imputed_ffill)\n",
    "    rmse_ffill = test_data_classification(df=data_imputed_ffill,\n",
    "                                          df_org=original_data,\n",
    "                                          data_out=data_out)\n",
    "\n",
    "    # Interpolation Imputation\n",
    "    data_imputed_interpolation = active_data.interpolate().bfill().ffill()\n",
    "    data_imputed_interpolation = generate_class_labels(df=data_imputed_interpolation)\n",
    "    rmse_interpolate = test_data_classification(df=data_imputed_interpolation,\n",
    "                                                df_org=original_data,\n",
    "                                                data_out=data_out)\n",
    "\n",
    "    results_classification.append({\"DROP\": round(rmse_drop_na, 2),\n",
    "                                   \"ZERO\": round(rmse_zero, 2),\n",
    "                                   \"MEAN\": round(rmse_mean, 2),\n",
    "                                   \"BFILL\": round(rmse_bfill, 2),\n",
    "                                   \"FFILL\": round(rmse_ffill, 2),\n",
    "                                   \"INTERPOLATE\": round(rmse_interpolate, 2)})\n"
   ],
   "outputs": [
    {
     "name": "stderr",
     "output_type": "stream",
     "text": [
      "/home/metehanguzel/Desktop/projects/TE_ML_U1/utils_missing_data.py:187: SettingWithCopyWarning: \n",
      "A value is trying to be set on a copy of a slice from a DataFrame.\n",
      "Try using .loc[row_indexer,col_indexer] = value instead\n",
      "\n",
      "See the caveats in the documentation: https://pandas.pydata.org/pandas-docs/stable/user_guide/indexing.html#returning-a-view-versus-a-copy\n",
      "  df.loc[:, \"OUT\"] = AQIs[1:]\n",
      "/home/metehanguzel/Desktop/projects/TE_ML_U1/utils_missing_data.py:187: SettingWithCopyWarning: \n",
      "A value is trying to be set on a copy of a slice from a DataFrame.\n",
      "Try using .loc[row_indexer,col_indexer] = value instead\n",
      "\n",
      "See the caveats in the documentation: https://pandas.pydata.org/pandas-docs/stable/user_guide/indexing.html#returning-a-view-versus-a-copy\n",
      "  df.loc[:, \"OUT\"] = AQIs[1:]\n",
      "/home/metehanguzel/Desktop/projects/TE_ML_U1/utils_missing_data.py:187: SettingWithCopyWarning: \n",
      "A value is trying to be set on a copy of a slice from a DataFrame.\n",
      "Try using .loc[row_indexer,col_indexer] = value instead\n",
      "\n",
      "See the caveats in the documentation: https://pandas.pydata.org/pandas-docs/stable/user_guide/indexing.html#returning-a-view-versus-a-copy\n",
      "  df.loc[:, \"OUT\"] = AQIs[1:]\n",
      "/home/metehanguzel/Desktop/projects/TE_ML_U1/utils_missing_data.py:187: SettingWithCopyWarning: \n",
      "A value is trying to be set on a copy of a slice from a DataFrame.\n",
      "Try using .loc[row_indexer,col_indexer] = value instead\n",
      "\n",
      "See the caveats in the documentation: https://pandas.pydata.org/pandas-docs/stable/user_guide/indexing.html#returning-a-view-versus-a-copy\n",
      "  df.loc[:, \"OUT\"] = AQIs[1:]\n",
      "/home/metehanguzel/Desktop/projects/TE_ML_U1/utils_missing_data.py:187: SettingWithCopyWarning: \n",
      "A value is trying to be set on a copy of a slice from a DataFrame.\n",
      "Try using .loc[row_indexer,col_indexer] = value instead\n",
      "\n",
      "See the caveats in the documentation: https://pandas.pydata.org/pandas-docs/stable/user_guide/indexing.html#returning-a-view-versus-a-copy\n",
      "  df.loc[:, \"OUT\"] = AQIs[1:]\n",
      "/home/metehanguzel/Desktop/projects/TE_ML_U1/utils_missing_data.py:187: SettingWithCopyWarning: \n",
      "A value is trying to be set on a copy of a slice from a DataFrame.\n",
      "Try using .loc[row_indexer,col_indexer] = value instead\n",
      "\n",
      "See the caveats in the documentation: https://pandas.pydata.org/pandas-docs/stable/user_guide/indexing.html#returning-a-view-versus-a-copy\n",
      "  df.loc[:, \"OUT\"] = AQIs[1:]\n"
     ]
    }
   ],
   "execution_count": 13
  },
  {
   "cell_type": "code",
   "source": [
    "result_regression_rmse = []\n",
    "result_regression_mse = []\n",
    "result_regression_r2 = []\n",
    "\n",
    "data_out = False\n",
    "\n",
    "for active_data_tuple in data_collection:\n",
    "    # For each data, use missing value estimation methods separetely and get classification results\n",
    "\n",
    "    active_data = active_data_tuple[0]\n",
    "    original_data = generate_class_labels(active_data_tuple[1])\n",
    "\n",
    "    # Drop NA\n",
    "    data_drop_na = active_data.dropna()\n",
    "    data_drop_na = generate_class_labels(df=data_drop_na)\n",
    "    rmse_drop_na, mse_drop_na, r2_drop_na= test_data_regression(df=data_drop_na,\n",
    "                                                                df_org=original_data,\n",
    "                                                                data_out=data_out)\n",
    "\n",
    "    # Mean Imputation \n",
    "    data_imputed_mean = active_data.copy()\n",
    "    for col in data_imputed_mean.columns:\n",
    "        data_imputed_mean[col] = data_imputed_mean[col].fillna(data_imputed_mean.loc[:,col].mean())\n",
    "    data_imputed_mean = generate_class_labels(df=data_imputed_mean)\n",
    "    rmse_mean, mse_mean, r2_mean = test_data_regression(df=data_imputed_mean,\n",
    "                                                        df_org=original_data,\n",
    "                                                        data_out=data_out)\n",
    "\n",
    "    # Zero Imputation \n",
    "    data_imputed_zero = active_data.copy()\n",
    "    for col in data_imputed_zero.columns:\n",
    "        data_imputed_zero[col] = data_imputed_zero[col].fillna(0)\n",
    "    data_imputed_zero = generate_class_labels(df=data_imputed_zero)\n",
    "    rmse_zero, mse_zero, r2_zero = test_data_regression(df=data_imputed_zero,\n",
    "                                                        df_org=original_data,\n",
    "                                                        data_out=data_out)\n",
    "\n",
    "    # Bfill Imputation\n",
    "    data_imputed_bfill = active_data.bfill().ffill()\n",
    "    data_imputed_bfill = generate_class_labels(df=data_imputed_bfill)\n",
    "    rmse_bfill, mse_bfill, r2_bfill = test_data_regression(df=data_imputed_bfill,\n",
    "                                                           df_org=original_data,\n",
    "                                                           data_out=data_out)\n",
    "\n",
    "    # FFill Imputation\n",
    "    data_imputed_ffill = active_data.ffill().bfill()\n",
    "    data_imputed_ffill = generate_class_labels(df=data_imputed_ffill)\n",
    "    rmse_ffill, mse_ffill, r2_ffill = test_data_regression(df=data_imputed_ffill,\n",
    "                                                           df_org=original_data,\n",
    "                                                           data_out=data_out)\n",
    "\n",
    "    # Interpolation Imputation\n",
    "    data_imputed_interpolation = active_data.interpolate().bfill().ffill()\n",
    "    data_imputed_interpolation = generate_class_labels(df=data_imputed_interpolation)\n",
    "    rmse_interpolate, mse_interpolate, r2_interpolate = test_data_regression(df=data_imputed_interpolation,\n",
    "                                                                             df_org=original_data,\n",
    "                                                                             data_out=data_out)\n",
    "\n",
    "    result_regression_rmse.append({\"DROP\": round(rmse_drop_na, 2),\n",
    "                                   \"ZERO\": round(rmse_zero, 2),\n",
    "                                   \"MEAN\": round(rmse_mean, 2),\n",
    "                                   \"BFILL\": round(rmse_bfill, 2),\n",
    "                                   \"FFILL\": round(rmse_ffill, 2),\n",
    "                                   \"INTERPOLATE\": round(rmse_interpolate, 2)})\n",
    "\n",
    "    result_regression_mse.append({\"DROP\": round(mse_drop_na, 2),\n",
    "                                  \"ZERO\": round(mse_zero, 2),\n",
    "                                  \"MEAN\": round(mse_mean, 2),\n",
    "                                  \"BFILL\": round(mse_bfill, 2),\n",
    "                                  \"FFILL\": round(mse_ffill, 2),\n",
    "                                  \"INTERPOLATE\": round(mse_interpolate, 2)})\n",
    "\n",
    "    result_regression_r2.append({\"DROP\": round(r2_drop_na, 2),\n",
    "                                 \"ZERO\": round(r2_zero, 2),\n",
    "                                 \"MEAN\": round(r2_mean, 2),\n",
    "                                 \"BFILL\": round(r2_bfill, 2),\n",
    "                                 \"FFILL\": round(r2_ffill, 2),\n",
    "                                 \"INTERPOLATE\": round(r2_interpolate, 2)})"
   ],
   "metadata": {
    "collapsed": false,
    "ExecuteTime": {
     "end_time": "2024-05-29T13:49:32.352771Z",
     "start_time": "2024-05-29T13:48:26.078018Z"
    }
   },
   "outputs": [
    {
     "name": "stderr",
     "output_type": "stream",
     "text": [
      "/home/metehanguzel/Desktop/projects/TE_ML_U1/utils_missing_data.py:187: SettingWithCopyWarning: \n",
      "A value is trying to be set on a copy of a slice from a DataFrame.\n",
      "Try using .loc[row_indexer,col_indexer] = value instead\n",
      "\n",
      "See the caveats in the documentation: https://pandas.pydata.org/pandas-docs/stable/user_guide/indexing.html#returning-a-view-versus-a-copy\n",
      "  df.loc[:, \"OUT\"] = AQIs[1:]\n",
      "/home/metehanguzel/Desktop/projects/TE_ML_U1/utils_missing_data.py:187: SettingWithCopyWarning: \n",
      "A value is trying to be set on a copy of a slice from a DataFrame.\n",
      "Try using .loc[row_indexer,col_indexer] = value instead\n",
      "\n",
      "See the caveats in the documentation: https://pandas.pydata.org/pandas-docs/stable/user_guide/indexing.html#returning-a-view-versus-a-copy\n",
      "  df.loc[:, \"OUT\"] = AQIs[1:]\n",
      "/home/metehanguzel/Desktop/projects/TE_ML_U1/utils_missing_data.py:187: SettingWithCopyWarning: \n",
      "A value is trying to be set on a copy of a slice from a DataFrame.\n",
      "Try using .loc[row_indexer,col_indexer] = value instead\n",
      "\n",
      "See the caveats in the documentation: https://pandas.pydata.org/pandas-docs/stable/user_guide/indexing.html#returning-a-view-versus-a-copy\n",
      "  df.loc[:, \"OUT\"] = AQIs[1:]\n",
      "/home/metehanguzel/Desktop/projects/TE_ML_U1/utils_missing_data.py:187: SettingWithCopyWarning: \n",
      "A value is trying to be set on a copy of a slice from a DataFrame.\n",
      "Try using .loc[row_indexer,col_indexer] = value instead\n",
      "\n",
      "See the caveats in the documentation: https://pandas.pydata.org/pandas-docs/stable/user_guide/indexing.html#returning-a-view-versus-a-copy\n",
      "  df.loc[:, \"OUT\"] = AQIs[1:]\n",
      "/home/metehanguzel/Desktop/projects/TE_ML_U1/utils_missing_data.py:187: SettingWithCopyWarning: \n",
      "A value is trying to be set on a copy of a slice from a DataFrame.\n",
      "Try using .loc[row_indexer,col_indexer] = value instead\n",
      "\n",
      "See the caveats in the documentation: https://pandas.pydata.org/pandas-docs/stable/user_guide/indexing.html#returning-a-view-versus-a-copy\n",
      "  df.loc[:, \"OUT\"] = AQIs[1:]\n",
      "/home/metehanguzel/Desktop/projects/TE_ML_U1/utils_missing_data.py:187: SettingWithCopyWarning: \n",
      "A value is trying to be set on a copy of a slice from a DataFrame.\n",
      "Try using .loc[row_indexer,col_indexer] = value instead\n",
      "\n",
      "See the caveats in the documentation: https://pandas.pydata.org/pandas-docs/stable/user_guide/indexing.html#returning-a-view-versus-a-copy\n",
      "  df.loc[:, \"OUT\"] = AQIs[1:]\n"
     ]
    }
   ],
   "execution_count": 14
  },
  {
   "cell_type": "code",
   "metadata": {
    "ExecuteTime": {
     "end_time": "2024-05-29T13:49:32.358473Z",
     "start_time": "2024-05-29T13:49:32.353976Z"
    }
   },
   "source": [
    "print(\"\\nClassification Results:\\n\")\n",
    "for result in results_classification:\n",
    "    print(result)"
   ],
   "outputs": [
    {
     "name": "stdout",
     "output_type": "stream",
     "text": [
      "\n",
      "Classification Results:\n",
      "\n",
      "{'DROP': 0.74, 'ZERO': 0.17, 'MEAN': 0.42, 'BFILL': 0.71, 'FFILL': 0.7, 'INTERPOLATE': 0.7}\n",
      "{'DROP': 0.41, 'ZERO': 0.22, 'MEAN': 0.49, 'BFILL': 0.76, 'FFILL': 0.75, 'INTERPOLATE': 0.76}\n",
      "{'DROP': 0.34, 'ZERO': 0.27, 'MEAN': 0.45, 'BFILL': 0.77, 'FFILL': 0.77, 'INTERPOLATE': 0.77}\n",
      "{'DROP': 0.55, 'ZERO': 0.31, 'MEAN': 0.37, 'BFILL': 0.71, 'FFILL': 0.7, 'INTERPOLATE': 0.71}\n",
      "{'DROP': 0.11, 'ZERO': 0.4, 'MEAN': 0.39, 'BFILL': 0.79, 'FFILL': 0.78, 'INTERPOLATE': 0.79}\n",
      "{'DROP': 0.45, 'ZERO': 0.17, 'MEAN': 0.42, 'BFILL': 0.74, 'FFILL': 0.75, 'INTERPOLATE': 0.75}\n"
     ]
    }
   ],
   "execution_count": 15
  },
  {
   "cell_type": "code",
   "source": [
    "plot_results(data_in=results_classification)"
   ],
   "metadata": {
    "collapsed": false,
    "ExecuteTime": {
     "end_time": "2024-05-29T13:49:32.557353Z",
     "start_time": "2024-05-29T13:49:32.359835Z"
    }
   },
   "outputs": [
    {
     "data": {
      "text/plain": [
       "<Figure size 640x480 with 1 Axes>"
      ],
      "image/png": "[encoded data removed]"
     },
     "metadata": {},
     "output_type": "display_data"
    }
   ],
   "execution_count": 16
  },
  {
   "cell_type": "code",
   "source": [
    "print(\"\\nRegression Results (RMSE):\\n\")\n",
    "for result in result_regression_rmse:\n",
    "    print(result)"
   ],
   "metadata": {
    "collapsed": false,
    "ExecuteTime": {
     "end_time": "2024-05-29T13:49:32.563016Z",
     "start_time": "2024-05-29T13:49:32.558638Z"
    }
   },
   "outputs": [
    {
     "name": "stdout",
     "output_type": "stream",
     "text": [
      "\n",
      "Regression Results (RMSE):\n",
      "\n",
      "{'DROP': 0.7, 'ZERO': 1.15, 'MEAN': 0.78, 'BFILL': 0.5, 'FFILL': 0.51, 'INTERPOLATE': 0.51}\n",
      "{'DROP': 1.11, 'ZERO': 1.01, 'MEAN': 0.74, 'BFILL': 0.47, 'FFILL': 0.46, 'INTERPOLATE': 0.48}\n",
      "{'DROP': 0.74, 'ZERO': 1.09, 'MEAN': 0.82, 'BFILL': 0.46, 'FFILL': 0.46, 'INTERPOLATE': 0.46}\n",
      "{'DROP': 1.18, 'ZERO': 1.08, 'MEAN': 0.88, 'BFILL': 0.52, 'FFILL': 0.53, 'INTERPOLATE': 0.54}\n",
      "{'DROP': 1.53, 'ZERO': 0.99, 'MEAN': 0.78, 'BFILL': 0.45, 'FFILL': 0.45, 'INTERPOLATE': 0.45}\n",
      "{'DROP': 1.06, 'ZERO': 1.28, 'MEAN': 0.9, 'BFILL': 0.48, 'FFILL': 0.48, 'INTERPOLATE': 0.48}\n"
     ]
    }
   ],
   "execution_count": 17
  },
  {
   "cell_type": "code",
   "source": [
    "plot_results(data_in=result_regression_rmse)"
   ],
   "metadata": {
    "collapsed": false,
    "ExecuteTime": {
     "end_time": "2024-05-29T13:49:32.834264Z",
     "start_time": "2024-05-29T13:49:32.564569Z"
    }
   },
   "outputs": [
    {
     "data": {
      "text/plain": [
       "<Figure size 640x480 with 1 Axes>"
      ],
      "image/png": "[encoded data removed]"
     },
     "metadata": {},
     "output_type": "display_data"
    }
   ],
   "execution_count": 18
  },
  {
   "cell_type": "code",
   "source": [
    "print(\"\\nRegression Results (MSE):\\n\")\n",
    "for result in result_regression_mse:\n",
    "    print(result)"
   ],
   "metadata": {
    "collapsed": false,
    "ExecuteTime": {
     "end_time": "2024-05-29T13:49:32.840069Z",
     "start_time": "2024-05-29T13:49:32.835713Z"
    }
   },
   "outputs": [
    {
     "name": "stdout",
     "output_type": "stream",
     "text": [
      "\n",
      "Regression Results (MSE):\n",
      "\n",
      "{'DROP': 0.56, 'ZERO': 1.38, 'MEAN': 0.61, 'BFILL': 0.26, 'FFILL': 0.26, 'INTERPOLATE': 0.26}\n",
      "{'DROP': 1.29, 'ZERO': 1.09, 'MEAN': 0.56, 'BFILL': 0.22, 'FFILL': 0.22, 'INTERPOLATE': 0.23}\n",
      "{'DROP': 0.58, 'ZERO': 1.24, 'MEAN': 0.68, 'BFILL': 0.21, 'FFILL': 0.21, 'INTERPOLATE': 0.21}\n",
      "{'DROP': 1.55, 'ZERO': 1.21, 'MEAN': 0.77, 'BFILL': 0.27, 'FFILL': 0.28, 'INTERPOLATE': 0.29}\n",
      "{'DROP': 2.47, 'ZERO': 1.05, 'MEAN': 0.63, 'BFILL': 0.21, 'FFILL': 0.2, 'INTERPOLATE': 0.2}\n",
      "{'DROP': 1.31, 'ZERO': 1.72, 'MEAN': 0.85, 'BFILL': 0.24, 'FFILL': 0.24, 'INTERPOLATE': 0.24}\n"
     ]
    }
   ],
   "execution_count": 19
  },
  {
   "cell_type": "code",
   "source": [
    "plot_results(data_in=result_regression_mse)"
   ],
   "metadata": {
    "collapsed": false,
    "ExecuteTime": {
     "end_time": "2024-05-29T13:49:33.031512Z",
     "start_time": "2024-05-29T13:49:32.841750Z"
    }
   },
   "outputs": [
    {
     "data": {
      "text/plain": [
       "<Figure size 640x480 with 1 Axes>"
      ],
      "image/png": "[encoded data removed]"
     },
     "metadata": {},
     "output_type": "display_data"
    }
   ],
   "execution_count": 20
  },
  {
   "cell_type": "code",
   "source": [
    "print(\"\\nRegression Results (R2):\\n\")\n",
    "for result in result_regression_r2:\n",
    "    print(result)"
   ],
   "metadata": {
    "collapsed": false,
    "ExecuteTime": {
     "end_time": "2024-05-29T13:49:33.037837Z",
     "start_time": "2024-05-29T13:49:33.032703Z"
    }
   },
   "outputs": [
    {
     "name": "stdout",
     "output_type": "stream",
     "text": [
      "\n",
      "Regression Results (R2):\n",
      "\n",
      "{'DROP': -1.3, 'ZERO': -1.6, 'MEAN': -0.12, 'BFILL': 0.53, 'FFILL': 0.52, 'INTERPOLATE': 0.52}\n",
      "{'DROP': -3.59, 'ZERO': -0.78, 'MEAN': 0.02, 'BFILL': 0.57, 'FFILL': 0.58, 'INTERPOLATE': 0.53}\n",
      "{'DROP': -0.84, 'ZERO': -0.92, 'MEAN': -0.15, 'BFILL': 0.64, 'FFILL': 0.64, 'INTERPOLATE': 0.64}\n",
      "{'DROP': -4.9, 'ZERO': -0.73, 'MEAN': -0.21, 'BFILL': 0.57, 'FFILL': 0.56, 'INTERPOLATE': 0.56}\n",
      "{'DROP': -9.56, 'ZERO': -0.62, 'MEAN': -0.07, 'BFILL': 0.66, 'FFILL': 0.66, 'INTERPOLATE': 0.66}\n",
      "{'DROP': -3.4, 'ZERO': -0.95, 'MEAN': 0.04, 'BFILL': 0.72, 'FFILL': 0.72, 'INTERPOLATE': 0.72}\n"
     ]
    }
   ],
   "execution_count": 21
  },
  {
   "cell_type": "code",
   "source": [
    "plot_results(data_in=result_regression_r2)"
   ],
   "metadata": {
    "collapsed": false,
    "ExecuteTime": {
     "end_time": "2024-05-29T13:49:33.223515Z",
     "start_time": "2024-05-29T13:49:33.040592Z"
    }
   },
   "outputs": [
    {
     "data": {
      "text/plain": [
       "<Figure size 640x480 with 1 Axes>"
      ],
      "image/png": "[encoded data removed]"
     },
     "metadata": {},
     "output_type": "display_data"
    }
   ],
   "execution_count": 22
  }
 ],
 "metadata": {
  "kernelspec": {
   "display_name": "Python 3",
   "language": "python",
   "name": "python3"
  },
  "language_info": {
   "codemirror_mode": {
    "name": "ipython",
    "version": 3
   },
   "file_extension": ".py",
   "mimetype": "text/x-python",
   "name": "python",
   "nbconvert_exporter": "python",
   "pygments_lexer": "ipython3",
   "version": "3.10.12"
  }
 },
 "nbformat": 4,
 "nbformat_minor": 2
}
