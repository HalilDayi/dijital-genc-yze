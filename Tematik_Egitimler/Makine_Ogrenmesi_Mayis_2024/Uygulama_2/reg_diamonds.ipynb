{
 "cells": [
  {
   "cell_type": "code",
   "id": "initial_id",
   "metadata": {
    "collapsed": true
   },
   "source": [
    "import warnings\n",
    "warnings.filterwarnings('ignore')\n",
    "\n",
    "import numpy as np \n",
    "import pandas as pd \n",
    "import matplotlib.pyplot as plotter\n",
    "import seaborn as sns\n",
    "\n",
    "from sklearn.preprocessing import LabelEncoder\n",
    "from sklearn.model_selection import train_test_split\n",
    "from sklearn.preprocessing import StandardScaler\n",
    "from sklearn.pipeline import Pipeline\n",
    "\n",
    "from sklearn.linear_model import LinearRegression\n",
    "from sklearn. linear_model import Lasso\n",
    "from sklearn.tree import DecisionTreeRegressor\n",
    "from sklearn.ensemble import RandomForestRegressor\n",
    "from sklearn.neighbors import KNeighborsRegressor\n",
    "from xgboost import XGBRegressor\n",
    "\n",
    "from sklearn.model_selection import cross_val_score\n",
    "from sklearn.metrics import mean_squared_error\n",
    "from sklearn import metrics "
   ],
   "outputs": [],
   "execution_count": null
  },
  {
   "cell_type": "code",
   "source": [
    "data_df = pd.read_csv(\"./data/diamonds.csv\")\n",
    "data_df.sample(10)"
   ],
   "metadata": {
    "collapsed": false
   },
   "id": "743e17792969cf46",
   "outputs": [],
   "execution_count": null
  },
  {
   "cell_type": "code",
   "source": [
    "data_df.info()"
   ],
   "metadata": {
    "collapsed": false
   },
   "id": "7a5570159ae83d99",
   "outputs": [],
   "execution_count": null
  },
  {
   "cell_type": "code",
   "source": [
    "plotter.figure(figsize=(10,8))\n",
    "cols = [\"#A0522D\",\"#A52A2A\",\"#CD853F\",\"#F4A460\",\"#DEB887\"]\n",
    "ax = sns.violinplot(x=\"cut\",y=\"price\", data=data_df, palette=cols,scale= \"count\")\n",
    "ax.set_title(\"Diamond Cut for Price\", color=\"#774571\", fontsize = 20)\n",
    "ax.set_ylabel(\"Price\", color=\"#4e4c39\", fontsize = 15)\n",
    "ax.set_xlabel(\"Cut\", color=\"#4e4c39\", fontsize = 15)\n",
    "plotter.show()"
   ],
   "metadata": {
    "collapsed": false
   },
   "id": "804aa2416a05940d",
   "outputs": [],
   "execution_count": null
  },
  {
   "cell_type": "code",
   "source": [
    "plotter.figure(figsize=(12,8))\n",
    "ax = sns.violinplot(x=\"color\",y=\"price\", data=data_df, palette=cols,scale= \"count\")\n",
    "ax.set_title(\"Diamond Colors for Price\", color=\"#774571\", fontsize = 20)\n",
    "ax.set_ylabel(\"Price\", color=\"#4e4c39\", fontsize = 15)\n",
    "ax.set_xlabel(\"Color\", color=\"#4e4c39\", fontsize = 15)\n",
    "plotter.show()"
   ],
   "metadata": {
    "collapsed": false
   },
   "id": "cb82efb874199a1c",
   "outputs": [],
   "execution_count": null
  },
  {
   "cell_type": "code",
   "source": [
    "plotter.figure(figsize=(13,8))\n",
    "ax = sns.violinplot(x=\"clarity\",y=\"price\", data=data_df, palette=cols,scale= \"count\")\n",
    "ax.set_title(\"Diamond Clarity for Price\", color=\"#774571\", fontsize = 20)\n",
    "ax.set_ylabel(\"Price\", color=\"#4e4c39\", fontsize = 15)\n",
    "ax.set_xlabel(\"Clarity\", color=\"#4e4c39\", fontsize = 15)\n",
    "plotter.show()"
   ],
   "metadata": {
    "collapsed": false
   },
   "id": "5a494793deff2c0d",
   "outputs": [],
   "execution_count": null
  },
  {
   "metadata": {},
   "cell_type": "code",
   "source": "data_df['clarity'].unique()",
   "id": "cfc20ae6a22560fc",
   "outputs": [],
   "execution_count": null
  },
  {
   "metadata": {},
   "cell_type": "code",
   "source": "data_df['color'].unique()",
   "id": "a1875cbf4612cca4",
   "outputs": [],
   "execution_count": null
  },
  {
   "cell_type": "code",
   "source": [
    "data_df.describe().T"
   ],
   "metadata": {
    "collapsed": false
   },
   "id": "b739ccdc12c3e9b9",
   "outputs": [],
   "execution_count": null
  },
  {
   "cell_type": "code",
   "source": [
    "ax = sns.pairplot(data_df, hue= \"cut\", palette = cols)"
   ],
   "metadata": {
    "collapsed": false
   },
   "id": "70a288d653feae6",
   "outputs": [],
   "execution_count": null
  },
  {
   "cell_type": "code",
   "source": [
    "lm = sns.lmplot(x=\"price\", y=\"y\", data=data_df, scatter_kws={\"color\": \"#BC8F8F\"}, line_kws={\"color\": \"#8B4513\"})\n",
    "plotter.title(\"Line Plot on Price vs 'y'\", color=\"#774571\", fontsize = 20)\n",
    "plotter.show()"
   ],
   "metadata": {
    "collapsed": false
   },
   "id": "e6a0d06087f8e577",
   "outputs": [],
   "execution_count": null
  },
  {
   "cell_type": "code",
   "source": [
    "lm = sns.lmplot(x=\"price\", y=\"z\", data=data_df, scatter_kws={\"color\": \"#BC8F8F\"}, line_kws={\"color\": \"#8B4513\"})\n",
    "plotter.title(\"Line Plot on Price vs 'z'\", color=\"#774571\", fontsize = 20)\n",
    "plotter.show()"
   ],
   "metadata": {
    "collapsed": false
   },
   "id": "8c02ae3f0aadc1b5",
   "outputs": [],
   "execution_count": null
  },
  {
   "cell_type": "code",
   "source": [
    "lm = sns.lmplot(x=\"price\", y=\"depth\", data=data_df, scatter_kws={\"color\": \"#BC8F8F\"}, line_kws={\"color\": \"#8B4513\"})\n",
    "plotter.title(\"Line Plot on Price vs 'depth'\", color=\"#774571\", fontsize = 20)\n",
    "plotter.show()"
   ],
   "metadata": {
    "collapsed": false
   },
   "id": "65d4d6b27abe2b0e",
   "outputs": [],
   "execution_count": null
  },
  {
   "cell_type": "code",
   "source": [
    "lm = sns.lmplot(x=\"price\", y=\"table\", data=data_df, scatter_kws={\"color\": \"#BC8F8F\"}, line_kws={\"color\": \"#8B4513\"})\n",
    "plotter.title(\"Line Plot on Price vs 'Table'\", color=\"#774571\", fontsize = 20)\n",
    "plotter.show()"
   ],
   "metadata": {
    "collapsed": false
   },
   "id": "10f925bdb5fb340d",
   "outputs": [],
   "execution_count": null
  },
  {
   "cell_type": "code",
   "source": [
    "# Removing the feature \"Unnamed\"\n",
    "data_df = data_df.drop([\"Unnamed: 0\"], axis=1)\n",
    "data_df.shape"
   ],
   "metadata": {
    "collapsed": false
   },
   "id": "1b4632a6b9c76cfc",
   "outputs": [],
   "execution_count": null
  },
  {
   "cell_type": "code",
   "source": [
    "# Removing the datapoints having min 0 value in either x, y or z features \n",
    "data_df = data_df.drop(data_df[data_df[\"x\"]==0].index)\n",
    "data_df = data_df.drop(data_df[data_df[\"y\"]==0].index)\n",
    "data_df = data_df.drop(data_df[data_df[\"z\"]==0].index)\n",
    "data_df.shape"
   ],
   "metadata": {
    "collapsed": false
   },
   "id": "de25a847981e7683",
   "outputs": [],
   "execution_count": null
  },
  {
   "cell_type": "code",
   "source": [
    "# Dropping the outliers (since we have huge dataset) by defining appropriate measures across features \n",
    "data_df = data_df[(data_df[\"depth\"]<75)&(data_df[\"depth\"]>45)]\n",
    "data_df = data_df[(data_df[\"table\"]<80)&(data_df[\"table\"]>40)]\n",
    "data_df = data_df[(data_df[\"x\"]<40)]\n",
    "data_df = data_df[(data_df[\"y\"]<40)]\n",
    "data_df = data_df[(data_df[\"z\"]<40)&(data_df[\"z\"]>2)]\n",
    "data_df.shape "
   ],
   "metadata": {
    "collapsed": false
   },
   "id": "78357bd081f5f3f0",
   "outputs": [],
   "execution_count": null
  },
  {
   "cell_type": "code",
   "source": [
    "# Making a copy to keep original data in its form intact\n",
    "data1 = data_df.copy()\n",
    "\n",
    "# Applying label encoder to columns with categorical data\n",
    "columns = ['cut','color','clarity']\n",
    "label_encoder = LabelEncoder()\n",
    "for col in columns:\n",
    "    data1[col] = label_encoder.fit_transform(data1[col])\n",
    "data1.describe()"
   ],
   "metadata": {
    "collapsed": false
   },
   "id": "bf245268582bb6b4",
   "outputs": [],
   "execution_count": null
  },
  {
   "cell_type": "code",
   "source": [
    "cmap = sns.diverging_palette(205, 133, 63, as_cmap=True)\n",
    "cols = ([\"#682F2F\", \"#9E726F\", \"#D6B2B1\", \"#B9C0C9\", \"#9F8A78\", \"#F3AB60\"])\n",
    "corrmat= data1.corr()\n",
    "f, ax = plotter.subplots(figsize=(15,12))\n",
    "sns.heatmap(corrmat,cmap=cols,annot=True)"
   ],
   "metadata": {
    "collapsed": false
   },
   "id": "a9d4e454535e619c",
   "outputs": [],
   "execution_count": null
  },
  {
   "cell_type": "code",
   "source": [
    "# Defining the independent and dependent variables\n",
    "X= data1.drop([\"price\"],axis =1)\n",
    "y= data1[\"price\"]\n",
    "X_train, X_test, y_train, y_test = train_test_split(X, y,test_size=0.20, random_state=25)"
   ],
   "metadata": {
    "collapsed": false
   },
   "id": "8b1b6f0cef045e37",
   "outputs": [],
   "execution_count": null
  },
  {
   "cell_type": "code",
   "source": [
    "# Building pipelins of standard scaler and model for various regressors.\n",
    "\n",
    "pipeline_lr=Pipeline([(\"scalar1\",StandardScaler()),\n",
    "                     (\"lr\",LinearRegression())])\n",
    "\n",
    "pipeline_lasso=Pipeline([(\"scalar2\", StandardScaler()),\n",
    "                      (\"lasso\",Lasso())])\n",
    "\n",
    "pipeline_dt=Pipeline([(\"scalar3\",StandardScaler()),\n",
    "                     (\"dt\",DecisionTreeRegressor())])\n",
    "\n",
    "pipeline_rf=Pipeline([(\"scalar4\",StandardScaler()),\n",
    "                     (\"rf\",RandomForestRegressor())])\n",
    "\n",
    "\n",
    "pipeline_kn=Pipeline([(\"scalar5\",StandardScaler()),\n",
    "                     (\"kn\",KNeighborsRegressor())])\n",
    "\n",
    "\n",
    "pipeline_xgb=Pipeline([(\"scalar6\",StandardScaler()),\n",
    "                     (\"xgb\",XGBRegressor())])\n",
    "\n",
    "# List of all the pipelines\n",
    "pipelines = [pipeline_lr, pipeline_lasso, pipeline_dt, pipeline_rf, pipeline_kn, pipeline_xgb]\n",
    "\n",
    "# Dictionary of pipelines and model types for ease of reference\n",
    "pipeline_dict = {0: \"LinearRegression\", 1: \"Lasso\", 2: \"DecisionTree\", 3: \"RandomForest\",4: \"KNeighbors\", 5: \"XGBRegressor\"}\n",
    "\n",
    "# Fit the pipelines\n",
    "for pipe in pipelines:\n",
    "    pipe.fit(X_train, y_train)"
   ],
   "metadata": {
    "collapsed": false
   },
   "id": "4edb211dfa94c038",
   "outputs": [],
   "execution_count": null
  },
  {
   "cell_type": "code",
   "source": [
    "cv_results_rms = []\n",
    "for i, model in enumerate(pipelines):\n",
    "    cv_score = cross_val_score(model, X_train,y_train,scoring=\"neg_root_mean_squared_error\", cv=12)\n",
    "    cv_results_rms.append(cv_score)\n",
    "    print(\"%s: %f \" % (pipeline_dict[i], -1 * cv_score.mean()))"
   ],
   "metadata": {
    "collapsed": false
   },
   "id": "f8ffbd831940335b",
   "outputs": [],
   "execution_count": null
  },
  {
   "cell_type": "code",
   "source": [
    "# Model prediction on test data with XGBClassifier which gave us the least RMSE \n",
    "pred = pipeline_xgb.predict(X_test)\n",
    "print(\"R^2:\",metrics.r2_score(y_test, pred))\n",
    "print(\"Adjusted R^2:\",1 - (1-metrics.r2_score(y_test, pred))*(len(y_test)-1)/(len(y_test)-X_test.shape[1]-1))"
   ],
   "metadata": {
    "collapsed": false
   },
   "id": "501fb6bb0a11cb2e",
   "execution_count": null,
   "outputs": []
  }
 ],
 "metadata": {
  "kernelspec": {
   "display_name": "Python 3",
   "language": "python",
   "name": "python3"
  },
  "language_info": {
   "codemirror_mode": {
    "name": "ipython",
    "version": 2
   },
   "file_extension": ".py",
   "mimetype": "text/x-python",
   "name": "python",
   "nbconvert_exporter": "python",
   "pygments_lexer": "ipython2",
   "version": "2.7.6"
  }
 },
 "nbformat": 4,
 "nbformat_minor": 5
}
