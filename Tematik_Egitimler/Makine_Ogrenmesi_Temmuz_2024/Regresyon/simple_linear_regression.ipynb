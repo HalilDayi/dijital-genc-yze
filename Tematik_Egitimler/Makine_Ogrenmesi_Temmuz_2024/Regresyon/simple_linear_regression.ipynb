{
 "cells": [
  {
   "cell_type": "code",
   "id": "initial_id",
   "metadata": {
    "collapsed": true,
    "is_executing": true
   },
   "source": [
    "import pandas\n",
    "from pandas import DataFrame\n",
    "\n",
    "from matplotlib import pyplot as plotter\n",
    "from sklearn.linear_model import LinearRegression"
   ],
   "outputs": [],
   "execution_count": null
  },
  {
   "metadata": {
    "ExecuteTime": {
     "end_time": "2024-07-22T14:35:27.093820Z",
     "start_time": "2024-07-22T14:35:27.090947Z"
    }
   },
   "cell_type": "code",
   "source": [
    "salary_dataset_path = 'data/experience_salary_dataset'\n",
    "KEY_years = \"YearsExperience\"\n",
    "KEY_salary = \"Salary\""
   ],
   "id": "d0a8d11ab17428e",
   "outputs": [],
   "execution_count": 2
  },
  {
   "metadata": {
    "ExecuteTime": {
     "end_time": "2024-07-22T14:35:27.106626Z",
     "start_time": "2024-07-22T14:35:27.094900Z"
    }
   },
   "cell_type": "code",
   "source": [
    "salary_dataset = pandas.read_csv(salary_dataset_path) "
   ],
   "id": "a59e48c0e8a85d45",
   "outputs": [],
   "execution_count": 3
  },
  {
   "metadata": {
    "ExecuteTime": {
     "end_time": "2024-07-22T14:35:27.124104Z",
     "start_time": "2024-07-22T14:35:27.107732Z"
    }
   },
   "cell_type": "code",
   "source": [
    "salary_dataset.head()"
   ],
   "id": "e441095dc8754339",
   "outputs": [
    {
     "data": {
      "text/plain": "   YearsExperience  Salary\n0              1.1   39343\n1              1.3   46205\n2              1.5   37731\n3              2.0   43525\n4              2.2   39891",
      "text/html": "<div>\n<style scoped>\n    .dataframe tbody tr th:only-of-type {\n        vertical-align: middle;\n    }\n\n    .dataframe tbody tr th {\n        vertical-align: top;\n    }\n\n    .dataframe thead th {\n        text-align: right;\n    }\n</style>\n<table border=\"1\" class=\"dataframe\">\n  <thead>\n    <tr style=\"text-align: right;\">\n      <th></th>\n      <th>YearsExperience</th>\n      <th>Salary</th>\n    </tr>\n  </thead>\n  <tbody>\n    <tr>\n      <th>0</th>\n      <td>1.1</td>\n      <td>39343</td>\n    </tr>\n    <tr>\n      <th>1</th>\n      <td>1.3</td>\n      <td>46205</td>\n    </tr>\n    <tr>\n      <th>2</th>\n      <td>1.5</td>\n      <td>37731</td>\n    </tr>\n    <tr>\n      <th>3</th>\n      <td>2.0</td>\n      <td>43525</td>\n    </tr>\n    <tr>\n      <th>4</th>\n      <td>2.2</td>\n      <td>39891</td>\n    </tr>\n  </tbody>\n</table>\n</div>"
     },
     "execution_count": 4,
     "metadata": {},
     "output_type": "execute_result"
    }
   ],
   "execution_count": 4
  },
  {
   "metadata": {
    "ExecuteTime": {
     "end_time": "2024-07-22T14:35:27.131074Z",
     "start_time": "2024-07-22T14:35:27.125197Z"
    }
   },
   "cell_type": "code",
   "source": [
    "print(salary_dataset.shape)"
   ],
   "id": "983d3f3d5d9dfd49",
   "outputs": [
    {
     "name": "stdout",
     "output_type": "stream",
     "text": [
      "(30, 2)\n"
     ]
    }
   ],
   "execution_count": 5
  },
  {
   "metadata": {
    "ExecuteTime": {
     "end_time": "2024-07-22T14:35:27.142736Z",
     "start_time": "2024-07-22T14:35:27.132328Z"
    }
   },
   "cell_type": "code",
   "source": [
    "for key in [KEY_years, KEY_salary]:\n",
    "    print(\"Stats of key: \" + str(key))\n",
    "    print(\"Min: \" + str(min(salary_dataset[key])))\n",
    "    print(\"Max: \" + str(max(salary_dataset[key])))\n",
    "    print(\"Avg: \" + str(sum(salary_dataset[key])/salary_dataset.shape[0]))\n",
    "    print(\"---\")"
   ],
   "id": "459a91ff7c2f3154",
   "outputs": [
    {
     "name": "stdout",
     "output_type": "stream",
     "text": [
      "Stats of key: YearsExperience\n",
      "Min: 1.1\n",
      "Max: 10.5\n",
      "Avg: 5.3133333333333335\n",
      "---\n",
      "Stats of key: Salary\n",
      "Min: 37731\n",
      "Max: 122391\n",
      "Avg: 76003.0\n",
      "---\n"
     ]
    }
   ],
   "execution_count": 6
  },
  {
   "cell_type": "code",
   "outputs": [
    {
     "data": {
      "text/plain": "       YearsExperience         Salary\ncount        30.000000      30.000000\nmean          5.313333   76003.000000\nstd           2.837888   27414.429785\nmin           1.100000   37731.000000\n25%           3.200000   56720.750000\n50%           4.700000   65237.000000\n75%           7.700000  100544.750000\nmax          10.500000  122391.000000",
      "text/html": "<div>\n<style scoped>\n    .dataframe tbody tr th:only-of-type {\n        vertical-align: middle;\n    }\n\n    .dataframe tbody tr th {\n        vertical-align: top;\n    }\n\n    .dataframe thead th {\n        text-align: right;\n    }\n</style>\n<table border=\"1\" class=\"dataframe\">\n  <thead>\n    <tr style=\"text-align: right;\">\n      <th></th>\n      <th>YearsExperience</th>\n      <th>Salary</th>\n    </tr>\n  </thead>\n  <tbody>\n    <tr>\n      <th>count</th>\n      <td>30.000000</td>\n      <td>30.000000</td>\n    </tr>\n    <tr>\n      <th>mean</th>\n      <td>5.313333</td>\n      <td>76003.000000</td>\n    </tr>\n    <tr>\n      <th>std</th>\n      <td>2.837888</td>\n      <td>27414.429785</td>\n    </tr>\n    <tr>\n      <th>min</th>\n      <td>1.100000</td>\n      <td>37731.000000</td>\n    </tr>\n    <tr>\n      <th>25%</th>\n      <td>3.200000</td>\n      <td>56720.750000</td>\n    </tr>\n    <tr>\n      <th>50%</th>\n      <td>4.700000</td>\n      <td>65237.000000</td>\n    </tr>\n    <tr>\n      <th>75%</th>\n      <td>7.700000</td>\n      <td>100544.750000</td>\n    </tr>\n    <tr>\n      <th>max</th>\n      <td>10.500000</td>\n      <td>122391.000000</td>\n    </tr>\n  </tbody>\n</table>\n</div>"
     },
     "execution_count": 7,
     "metadata": {},
     "output_type": "execute_result"
    }
   ],
   "source": [
    "salary_dataset.describe()"
   ],
   "metadata": {
    "collapsed": false,
    "ExecuteTime": {
     "end_time": "2024-07-22T14:35:27.159870Z",
     "start_time": "2024-07-22T14:35:27.144059Z"
    }
   },
   "id": "3363ccf19052a389",
   "execution_count": 7
  },
  {
   "metadata": {
    "ExecuteTime": {
     "end_time": "2024-07-22T14:35:27.417788Z",
     "start_time": "2024-07-22T14:35:27.162477Z"
    }
   },
   "cell_type": "code",
   "source": [
    "plotter.hist(salary_dataset[KEY_salary], bins=30)"
   ],
   "id": "b85a1bebb843c383",
   "outputs": [
    {
     "data": {
      "text/plain": "(array([3., 0., 1., 1., 0., 1., 5., 1., 1., 2., 2., 0., 0., 0., 0., 1., 1.,\n        0., 0., 2., 0., 1., 1., 0., 1., 1., 2., 0., 1., 2.]),\n array([ 37731.,  40553.,  43375.,  46197.,  49019.,  51841.,  54663.,\n         57485.,  60307.,  63129.,  65951.,  68773.,  71595.,  74417.,\n         77239.,  80061.,  82883.,  85705.,  88527.,  91349.,  94171.,\n         96993.,  99815., 102637., 105459., 108281., 111103., 113925.,\n        116747., 119569., 122391.]),\n <BarContainer object of 30 artists>)"
     },
     "execution_count": 8,
     "metadata": {},
     "output_type": "execute_result"
    },
    {
     "data": {
      "text/plain": "<Figure size 640x480 with 1 Axes>",
      "image/png": "[encoded data removed]"
     },
     "metadata": {},
     "output_type": "display_data"
    }
   ],
   "execution_count": 8
  },
  {
   "metadata": {
    "ExecuteTime": {
     "end_time": "2024-07-22T14:35:27.614968Z",
     "start_time": "2024-07-22T14:35:27.418922Z"
    }
   },
   "cell_type": "code",
   "source": [
    "plotter.hist(salary_dataset[KEY_years], bins=30)"
   ],
   "id": "642c67782dfdf69a",
   "outputs": [
    {
     "data": {
      "text/plain": "(array([2., 1., 1., 1., 0., 1., 3., 0., 2., 3., 1., 0., 2., 1., 0., 2., 0.,\n        0., 1., 1., 0., 1., 1., 0., 1., 1., 1., 1., 0., 2.]),\n array([ 1.1       ,  1.41333333,  1.72666667,  2.04      ,  2.35333333,\n         2.66666667,  2.98      ,  3.29333333,  3.60666667,  3.92      ,\n         4.23333333,  4.54666667,  4.86      ,  5.17333333,  5.48666667,\n         5.8       ,  6.11333333,  6.42666667,  6.74      ,  7.05333333,\n         7.36666667,  7.68      ,  7.99333333,  8.30666667,  8.62      ,\n         8.93333333,  9.24666667,  9.56      ,  9.87333333, 10.18666667,\n        10.5       ]),\n <BarContainer object of 30 artists>)"
     },
     "execution_count": 9,
     "metadata": {},
     "output_type": "execute_result"
    },
    {
     "data": {
      "text/plain": "<Figure size 640x480 with 1 Axes>",
      "image/png": "[encoded data removed]"
     },
     "metadata": {},
     "output_type": "display_data"
    }
   ],
   "execution_count": 9
  },
  {
   "metadata": {
    "ExecuteTime": {
     "end_time": "2024-07-22T14:35:27.778989Z",
     "start_time": "2024-07-22T14:35:27.617094Z"
    }
   },
   "cell_type": "code",
   "source": [
    "plotter.scatter(x = salary_dataset[KEY_years], y = salary_dataset[KEY_salary])"
   ],
   "id": "6f72f69c56a5c314",
   "outputs": [
    {
     "data": {
      "text/plain": "<matplotlib.collections.PathCollection at 0x1f7b85b7020>"
     },
     "execution_count": 10,
     "metadata": {},
     "output_type": "execute_result"
    },
    {
     "data": {
      "text/plain": "<Figure size 640x480 with 1 Axes>",
      "image/png": "[encoded data removed]"
     },
     "metadata": {},
     "output_type": "display_data"
    }
   ],
   "execution_count": 10
  },
  {
   "metadata": {
    "ExecuteTime": {
     "end_time": "2024-07-22T14:35:27.789770Z",
     "start_time": "2024-07-22T14:35:27.781565Z"
    }
   },
   "cell_type": "code",
   "source": [
    "# Hadi Eğitim Yapalım\n",
    "\n",
    "reg_model = LinearRegression().fit(salary_dataset[[KEY_years]],\n",
    "                                   salary_dataset[[KEY_salary]])\n"
   ],
   "id": "52dd460fbd1627f7",
   "outputs": [],
   "execution_count": 11
  },
  {
   "metadata": {
    "ExecuteTime": {
     "end_time": "2024-07-22T14:35:27.804439Z",
     "start_time": "2024-07-22T14:35:27.789770Z"
    }
   },
   "cell_type": "code",
   "source": [
    "k = salary_dataset[[KEY_years, KEY_salary]] # \n",
    "l = [salary_dataset[KEY_years], salary_dataset[KEY_years]]\n",
    "\n",
    "type(k), type(l)"
   ],
   "id": "944946e420a75606",
   "outputs": [
    {
     "data": {
      "text/plain": "(pandas.core.frame.DataFrame, list)"
     },
     "execution_count": 12,
     "metadata": {},
     "output_type": "execute_result"
    }
   ],
   "execution_count": 12
  },
  {
   "metadata": {
    "ExecuteTime": {
     "end_time": "2024-07-22T14:35:27.819851Z",
     "start_time": "2024-07-22T14:35:27.805882Z"
    }
   },
   "cell_type": "code",
   "source": [
    "reg_model.score(salary_dataset[[KEY_years]], salary_dataset[[KEY_salary]])"
   ],
   "id": "fed95de8f157ac4d",
   "outputs": [
    {
     "data": {
      "text/plain": "0.9569566641435086"
     },
     "execution_count": 13,
     "metadata": {},
     "output_type": "execute_result"
    }
   ],
   "execution_count": 13
  },
  {
   "metadata": {
    "ExecuteTime": {
     "end_time": "2024-07-22T14:35:27.831617Z",
     "start_time": "2024-07-22T14:35:27.821011Z"
    }
   },
   "cell_type": "code",
   "source": [
    "reg_model.coef_"
   ],
   "id": "4c4ec76f7f411c06",
   "outputs": [
    {
     "data": {
      "text/plain": "array([[9449.96232146]])"
     },
     "execution_count": 14,
     "metadata": {},
     "output_type": "execute_result"
    }
   ],
   "execution_count": 14
  },
  {
   "metadata": {
    "ExecuteTime": {
     "end_time": "2024-07-22T14:35:27.841072Z",
     "start_time": "2024-07-22T14:35:27.832817Z"
    }
   },
   "cell_type": "code",
   "source": [
    "reg_model.intercept_"
   ],
   "id": "82d18406db037db6",
   "outputs": [
    {
     "data": {
      "text/plain": "array([25792.20019867])"
     },
     "execution_count": 15,
     "metadata": {},
     "output_type": "execute_result"
    }
   ],
   "execution_count": 15
  },
  {
   "metadata": {
    "ExecuteTime": {
     "end_time": "2024-07-22T14:35:27.873231Z",
     "start_time": "2024-07-22T14:35:27.842175Z"
    }
   },
   "cell_type": "code",
   "source": [
    "reg_model.predict([[7]])"
   ],
   "id": "2485c0456938279a",
   "outputs": [
    {
     "name": "stderr",
     "output_type": "stream",
     "text": [
      "C:\\Users\\pc\\TE_ML_1\\.venv\\Lib\\site-packages\\sklearn\\base.py:493: UserWarning: X does not have valid feature names, but LinearRegression was fitted with feature names\n",
      "  warnings.warn(\n"
     ]
    },
    {
     "data": {
      "text/plain": "array([[91941.93644885]])"
     },
     "execution_count": 16,
     "metadata": {},
     "output_type": "execute_result"
    }
   ],
   "execution_count": 16
  },
  {
   "metadata": {
    "ExecuteTime": {
     "end_time": "2024-07-22T14:35:27.876846Z",
     "start_time": "2024-07-22T14:35:27.874349Z"
    }
   },
   "cell_type": "code",
   "source": [],
   "id": "29c80d607e659063",
   "outputs": [],
   "execution_count": 16
  },
  {
   "metadata": {
    "ExecuteTime": {
     "end_time": "2024-07-22T14:35:27.883083Z",
     "start_time": "2024-07-22T14:35:27.879355Z"
    }
   },
   "cell_type": "code",
   "source": [],
   "id": "ebc4e2a37c0a14ca",
   "outputs": [],
   "execution_count": 16
  }
 ],
 "metadata": {
  "kernelspec": {
   "display_name": "Python 3",
   "language": "python",
   "name": "python3"
  },
  "language_info": {
   "codemirror_mode": {
    "name": "ipython",
    "version": 2
   },
   "file_extension": ".py",
   "mimetype": "text/x-python",
   "name": "python",
   "nbconvert_exporter": "python",
   "pygments_lexer": "ipython2",
   "version": "2.7.6"
  }
 },
 "nbformat": 4,
 "nbformat_minor": 5
}
