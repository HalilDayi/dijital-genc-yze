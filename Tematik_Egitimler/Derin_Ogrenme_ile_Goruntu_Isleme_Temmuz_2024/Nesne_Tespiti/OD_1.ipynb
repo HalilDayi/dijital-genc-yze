{
 "cells": [
  {
   "cell_type": "markdown",
   "metadata": {
    "id": "wQBMQHq-0W-4"
   },
   "source": [
    "# Nesne tanımlama skor gösterimi"
   ]
  },
  {
   "cell_type": "code",
   "execution_count": null,
   "metadata": {
    "colab": {
     "base_uri": "https://localhost:8080/"
    },
    "id": "GRA8Hox6QCXD",
    "outputId": "413e172f-9bc1-4c67-84c8-5981d9b06347"
   },
   "outputs": [],
   "source": [
    "!pip install ultralytics\n",
    "!pip install opencv-python-headless\n",
    "!pip install matplotlib"
   ]
  },
  {
   "cell_type": "code",
   "execution_count": null,
   "metadata": {
    "id": "z7DYKirnL1Pv"
   },
   "outputs": [],
   "source": [
    "import cv2\n",
    "import matplotlib.pyplot as plt\n",
    "from ultralytics import YOLO\n"
   ]
  },
  {
   "cell_type": "code",
   "execution_count": null,
   "metadata": {
    "colab": {
     "base_uri": "https://localhost:8080/"
    },
    "id": "gwuMsN55L3kj",
    "outputId": "78edd86f-55ec-4b5b-a9ff-971c9dd825bf"
   },
   "outputs": [],
   "source": [
    "model = YOLO('yolov8n.pt')\n"
   ]
  },
  {
   "cell_type": "code",
   "execution_count": null,
   "metadata": {
    "id": "VcHAIm3VL5qx"
   },
   "outputs": [],
   "source": [
    "def detect_objects(image_path):\n",
    "    image = cv2.imread(image_path)\n",
    "    image = cv2.cvtColor(image, cv2.COLOR_BGR2RGB)  # OpenCV BGR formatını RGB'ye çevir\n",
    "    results = model(image)[0]\n",
    "\n",
    "    detections = []\n",
    "    for result in results.boxes.data.tolist():\n",
    "        x1, y1, x2, y2, score, class_id = result\n",
    "        detections.append([int(x1), int(y1), int(x2), int(y2), round(score, 3),\n",
    "                           results.names[int(class_id)]])\n",
    "\n",
    "    return detections, image\n"
   ]
  },
  {
   "cell_type": "code",
   "execution_count": null,
   "metadata": {
    "id": "nhsvIN9KL7ca"
   },
   "outputs": [],
   "source": [
    "def plot_detections(image, detections):\n",
    "    plt.figure(figsize=(10, 10))\n",
    "    plt.imshow(image)\n",
    "    ax = plt.gca()\n",
    "\n",
    "    for detection in detections:\n",
    "        x1, y1, x2, y2, score, class_name = detection\n",
    "        rect = plt.Rectangle((x1, y1), x2-x1, y2-y1, fill=False, color='red', linewidth=2)\n",
    "        ax.add_patch(rect)\n",
    "        plt.text(x1, y1, f'{class_name} {score}', bbox=dict(facecolor='yellow', alpha=0.5), fontsize=12, color='black')\n",
    "\n",
    "    plt.axis('off')\n",
    "    plt.show()\n"
   ]
  },
  {
   "cell_type": "code",
   "execution_count": null,
   "metadata": {
    "colab": {
     "base_uri": "https://localhost:8080/"
    },
    "id": "NuD4Rauex2BQ",
    "outputId": "9e20fad8-9730-486e-b87f-039b0744f2d4"
   },
   "outputs": [],
   "source": [
    "import os\n",
    "import glob\n",
    "\n",
    "# Görüntü dosyalarının bulunduğu dizin\n",
    "image_directory = '/content/Data'\n",
    "\n",
    "# Dizindeki tüm görüntü dosyalarının yollarını al\n",
    "image_paths = glob.glob(os.path.join(image_directory, '*'))\n",
    "\n",
    "# Tespit edilen nesneleri ve görüntüleri işlemek için döngü\n",
    "for image_path in image_paths:\n",
    "    detections, image = detect_objects(image_path)\n",
    "    print(detections)\n"
   ]
  },
  {
   "cell_type": "code",
   "execution_count": null,
   "metadata": {
    "colab": {
     "base_uri": "https://localhost:8080/",
     "height": 1000
    },
    "id": "fQLr4QBIMAKl",
    "outputId": "0f4ff94e-1508-450b-ce0a-b73d18313fc6"
   },
   "outputs": [],
   "source": [
    "import os\n",
    "import glob\n",
    "\n",
    "# Görüntü dosyalarının bulunduğu dizin\n",
    "image_directory = '/content/Data'\n",
    "\n",
    "# Dizindeki tüm görüntü dosyalarının yollarını al\n",
    "image_paths = glob.glob(os.path.join(image_directory, '*'))\n",
    "\n",
    "# Tespit edilen nesneleri ve görüntüleri işlemek için döngü\n",
    "for image_path in image_paths:\n",
    "    detections, image = detect_objects(image_path)\n",
    "    plot_detections(image, detections)\n",
    "    print(detections)\n"
   ]
  }
 ],
 "metadata": {
  "colab": {
   "provenance": []
  },
  "kernelspec": {
   "display_name": "Python 3 (ipykernel)",
   "language": "python",
   "name": "python3"
  },
  "language_info": {
   "codemirror_mode": {
    "name": "ipython",
    "version": 3
   },
   "file_extension": ".py",
   "mimetype": "text/x-python",
   "name": "python",
   "nbconvert_exporter": "python",
   "pygments_lexer": "ipython3",
   "version": "3.10.12"
  }
 },
 "nbformat": 4,
 "nbformat_minor": 1
}
