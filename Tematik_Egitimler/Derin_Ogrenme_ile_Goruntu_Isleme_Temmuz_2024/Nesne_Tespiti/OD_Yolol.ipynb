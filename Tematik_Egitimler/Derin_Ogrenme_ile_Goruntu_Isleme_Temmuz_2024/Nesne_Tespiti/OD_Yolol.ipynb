{
 "cells": [
  {
   "cell_type": "code",
   "execution_count": null,
   "metadata": {
    "colab": {
     "base_uri": "https://localhost:8080/"
    },
    "id": "aVBv02Lu91dY",
    "outputId": "86ba07ef-f819-4617-e54b-cc96da07161c"
   },
   "outputs": [],
   "source": [
    "!pip install ultralytics\n",
    "!pip install opencv-python-headless\n",
    "!pip install matplotlib"
   ]
  },
  {
   "cell_type": "code",
   "execution_count": null,
   "metadata": {
    "id": "styMcW0m93gq"
   },
   "outputs": [],
   "source": [
    "import cv2\n",
    "import matplotlib.pyplot as plt\n",
    "from ultralytics import YOLO"
   ]
  },
  {
   "cell_type": "code",
   "execution_count": null,
   "metadata": {
    "colab": {
     "base_uri": "https://localhost:8080/"
    },
    "id": "YPEJe7cK95vY",
    "outputId": "9919a12d-beb4-41bd-c66b-b5560c060375"
   },
   "outputs": [],
   "source": [
    "model = YOLO('yolov8l.pt')"
   ]
  },
  {
   "cell_type": "code",
   "execution_count": null,
   "metadata": {
    "id": "takNl7J59-No"
   },
   "outputs": [],
   "source": [
    "def detect_objects(image_path):\n",
    "    image = cv2.imread(image_path)\n",
    "    image = cv2.cvtColor(image, cv2.COLOR_BGR2RGB)  # OpenCV BGR formatını RGB'ye çevir\n",
    "    results = model(image)[0]\n",
    "\n",
    "    detections = []\n",
    "    for result in results.boxes.data.tolist():\n",
    "        x1, y1, x2, y2, score, class_id = result\n",
    "        detections.append([int(x1), int(y1), int(x2), int(y2), round(score, 3),\n",
    "                           results.names[int(class_id)]])\n",
    "\n",
    "    return detections, image"
   ]
  },
  {
   "cell_type": "code",
   "execution_count": null,
   "metadata": {
    "id": "xJcw8X0j-AZQ"
   },
   "outputs": [],
   "source": [
    "def plot_detections(image, detections):\n",
    "    plt.figure(figsize=(10, 10))\n",
    "    plt.imshow(image)\n",
    "    ax = plt.gca()\n",
    "\n",
    "    for detection in detections:\n",
    "        x1, y1, x2, y2, score, class_name = detection\n",
    "        rect = plt.Rectangle((x1, y1), x2-x1, y2-y1, fill=False, color='red', linewidth=2)\n",
    "        ax.add_patch(rect)\n",
    "        plt.text(x1, y1, f'{class_name} {score}', bbox=dict(facecolor='yellow', alpha=0.5), fontsize=12, color='black')\n",
    "\n",
    "    plt.axis('off')\n",
    "    plt.show()"
   ]
  },
  {
   "cell_type": "code",
   "execution_count": null,
   "metadata": {
    "colab": {
     "base_uri": "https://localhost:8080/"
    },
    "id": "XOhaRe2k-Cch",
    "outputId": "bfdce9fa-ed5d-48ec-ae97-70580df247c3"
   },
   "outputs": [],
   "source": [
    "import os\n",
    "import glob\n",
    "\n",
    "# Görüntü dosyalarının bulunduğu dizin\n",
    "image_directory = '/content/Data'\n",
    "\n",
    "# Dizindeki tüm görüntü dosyalarının yollarını al\n",
    "image_paths = glob.glob(os.path.join(image_directory, '*'))\n",
    "\n",
    "# Tespit edilen nesneleri ve görüntüleri işlemek için döngü\n",
    "for image_path in image_paths:\n",
    "    detections, image = detect_objects(image_path)\n",
    "    print(detections)"
   ]
  },
  {
   "cell_type": "code",
   "execution_count": null,
   "metadata": {
    "colab": {
     "base_uri": "https://localhost:8080/",
     "height": 1000
    },
    "id": "vbuEhxsN-TER",
    "outputId": "7b888715-40b0-4d15-f6d8-28bcdbeca05c"
   },
   "outputs": [],
   "source": [
    "import os\n",
    "import glob\n",
    "\n",
    "# Görüntü dosyalarının bulunduğu dizin\n",
    "image_directory = '/content/Data'\n",
    "\n",
    "# Dizindeki tüm görüntü dosyalarının yollarını al\n",
    "image_paths = glob.glob(os.path.join(image_directory, '*'))\n",
    "\n",
    "# Tespit edilen nesneleri ve görüntüleri işlemek için döngü\n",
    "for image_path in image_paths:\n",
    "    detections, image = detect_objects(image_path)\n",
    "    plot_detections(image, detections)\n",
    "    print(detections)"
   ]
  }
 ],
 "metadata": {
  "colab": {
   "provenance": []
  },
  "kernelspec": {
   "display_name": "Python 3 (ipykernel)",
   "language": "python",
   "name": "python3"
  },
  "language_info": {
   "codemirror_mode": {
    "name": "ipython",
    "version": 3
   },
   "file_extension": ".py",
   "mimetype": "text/x-python",
   "name": "python",
   "nbconvert_exporter": "python",
   "pygments_lexer": "ipython3",
   "version": "3.10.12"
  }
 },
 "nbformat": 4,
 "nbformat_minor": 1
}
