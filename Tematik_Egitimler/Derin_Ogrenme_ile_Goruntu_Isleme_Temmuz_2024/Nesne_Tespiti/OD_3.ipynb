{
 "cells": [
  {
   "cell_type": "markdown",
   "metadata": {
    "id": "vqZn0ZwY1H76"
   },
   "source": [
    "# Yolo ile video işleme"
   ]
  },
  {
   "cell_type": "code",
   "execution_count": null,
   "metadata": {
    "colab": {
     "base_uri": "https://localhost:8080/"
    },
    "id": "CMKqeH0aczN9",
    "outputId": "69e974e5-53dc-49df-a756-15c0afee641e"
   },
   "outputs": [],
   "source": [
    "!pip install ultralytics\n",
    "!pip install opencv-python-headless\n",
    "!pip install matplotlib\n"
   ]
  },
  {
   "cell_type": "code",
   "execution_count": null,
   "metadata": {
    "id": "ai8U9aRSc7KB"
   },
   "outputs": [],
   "source": [
    "import cv2\n",
    "import matplotlib.pyplot as plt\n",
    "from ultralytics import YOLO\n"
   ]
  },
  {
   "cell_type": "code",
   "execution_count": null,
   "metadata": {
    "colab": {
     "base_uri": "https://localhost:8080/"
    },
    "id": "MCLqBmlEc9HY",
    "outputId": "5a436427-8cad-432f-de9c-b699560e6b90"
   },
   "outputs": [],
   "source": [
    "model = YOLO('yolov8n.pt')  # En küçük model olan YOLOv8n'yi kullanıyoruz\n"
   ]
  },
  {
   "cell_type": "code",
   "execution_count": null,
   "metadata": {
    "colab": {
     "base_uri": "https://localhost:8080/",
     "height": 73
    },
    "id": "so5PglyAe2Xd",
    "outputId": "1d758764-3e8b-494d-cc58-118898610f85"
   },
   "outputs": [],
   "source": [
    "from google.colab import files\n",
    "\n",
    "uploaded = files.upload()  # Burada video dosyasını seçin ve yükleyin\n"
   ]
  },
  {
   "cell_type": "code",
   "execution_count": null,
   "metadata": {
    "colab": {
     "base_uri": "https://localhost:8080/"
    },
    "id": "Ji5WT7xyfIEb",
    "outputId": "f1e299bc-72bd-4ee0-bd63-702cc2641555"
   },
   "outputs": [],
   "source": [
    "def detect_faces_in_video(video_path):\n",
    "    cap = cv2.VideoCapture(video_path)\n",
    "    if not cap.isOpened():\n",
    "        print(\"Error: Could not open video.\")\n",
    "        return\n",
    "\n",
    "    # Video yazıcı ayarları\n",
    "    fourcc = cv2.VideoWriter_fourcc(*'XVID')\n",
    "    out = cv2.VideoWriter('output.avi', fourcc, 20.0, (int(cap.get(3)), int(cap.get(4))))\n",
    "\n",
    "    while cap.isOpened():\n",
    "        ret, frame = cap.read()\n",
    "        if not ret:\n",
    "            break\n",
    "\n",
    "        # YOLOv8 modelini kullanarak yüz tespiti yap\n",
    "        results = model(frame)[0]\n",
    "\n",
    "        # Tespit edilen yüzleri çerçeve içine al\n",
    "        for result in results.boxes.data.tolist():\n",
    "            x1, y1, x2, y2, score, class_id = result\n",
    "            class_name = results.names[int(class_id)]\n",
    "            if class_name == 'person':  # YOLOv8n modelinde 'person' olarak tanımlanmışsa\n",
    "                x1, y1, x2, y2 = int(x1), int(y1), int(x2), int(y2)\n",
    "                cv2.rectangle(frame, (x1, y1), (x2, y2), (0, 255, 0), 2)\n",
    "                cv2.putText(frame, f'{class_name} {score:.2f}', (x1, y1 - 10), cv2.FONT_HERSHEY_SIMPLEX, 0.9, (0, 255, 0), 2)\n",
    "\n",
    "        # Görüntüyü yaz\n",
    "        out.write(frame)\n",
    "\n",
    "    cap.release()\n",
    "    out.release()\n",
    "    cv2.destroyAllWindows()\n",
    "\n",
    "# Yüklediğiniz video dosyasının ismini buraya girin\n",
    "video_filename = list(uploaded.keys())[0]\n",
    "detect_faces_in_video(video_filename)\n"
   ]
  },
  {
   "cell_type": "code",
   "execution_count": null,
   "metadata": {
    "id": "Di6IZMnrfL8D"
   },
   "outputs": [],
   "source": [
    "from IPython.display import HTML\n",
    "from base64 import b64encode\n",
    "\n",
    "def display_video(file_path):\n",
    "    video_file = open(file_path, \"rb\").read()\n",
    "    video_url = f\"data:video/mp4;base64,{b64encode(video_file).decode()}\"\n",
    "    return HTML(f\"\"\"<video width=600 controls><source src=\"{video_url}\" type=\"video/mp4\"></video>\"\"\")\n",
    "\n",
    "# Çıktı videosunu göster\n",
    "display_video('output.avi')\n"
   ]
  },
  {
   "cell_type": "code",
   "execution_count": null,
   "metadata": {
    "colab": {
     "base_uri": "https://localhost:8080/"
    },
    "id": "e4O_6bAic_uE",
    "outputId": "de8f9685-a809-488e-db21-317d2911d30e"
   },
   "outputs": [],
   "source": [
    "def detect_faces_from_camera():\n",
    "    cap = cv2.VideoCapture(0)  # Kamerayı aç\n",
    "    if not cap.isOpened():\n",
    "        print(\"Error: Could not open video stream.\")\n",
    "        return\n",
    "\n",
    "    while True:\n",
    "        ret, frame = cap.read()\n",
    "        if not ret:\n",
    "            break\n",
    "\n",
    "        # YOLOv8 modelini kullanarak yüz tespiti yap\n",
    "        results = model(frame)[0]\n",
    "\n",
    "        # Tespit edilen yüzleri çerçeve içine al\n",
    "        for result in results.boxes.data.tolist():\n",
    "            x1, y1, x2, y2, score, class_id = result\n",
    "            class_name = results.names[int(class_id)]\n",
    "            if class_name == 'person':  # YOLOv8n modelinde 'person' olarak tanımlanmışsa\n",
    "                x1, y1, x2, y2 = int(x1), int(y1), int(x2), int(y2)\n",
    "                cv2.rectangle(frame, (x1, y1), (x2, y2), (0, 255, 0), 2)\n",
    "                cv2.putText(frame, f'{class_name} {score:.2f}', (x1, y1 - 10), cv2.FONT_HERSHEY_SIMPLEX, 0.9, (0, 255, 0), 2)\n",
    "\n",
    "        # Görüntüyü göster\n",
    "        cv2.imshow('YOLOv8 Face Detection', frame)\n",
    "\n",
    "        # 'q' tuşuna basıldığında çık\n",
    "        if cv2.waitKey(1) & 0xFF == ord('q'):\n",
    "            break\n",
    "\n",
    "    cap.release()\n",
    "    cv2.destroyAllWindows()\n",
    "\n",
    "# Kamera akışında yüz tespiti yap\n",
    "detect_faces_from_camera()\n"
   ]
  }
 ],
 "metadata": {
  "colab": {
   "provenance": []
  },
  "kernelspec": {
   "display_name": "Python 3 (ipykernel)",
   "language": "python",
   "name": "python3"
  },
  "language_info": {
   "codemirror_mode": {
    "name": "ipython",
    "version": 3
   },
   "file_extension": ".py",
   "mimetype": "text/x-python",
   "name": "python",
   "nbconvert_exporter": "python",
   "pygments_lexer": "ipython3",
   "version": "3.10.12"
  }
 },
 "nbformat": 4,
 "nbformat_minor": 1
}
