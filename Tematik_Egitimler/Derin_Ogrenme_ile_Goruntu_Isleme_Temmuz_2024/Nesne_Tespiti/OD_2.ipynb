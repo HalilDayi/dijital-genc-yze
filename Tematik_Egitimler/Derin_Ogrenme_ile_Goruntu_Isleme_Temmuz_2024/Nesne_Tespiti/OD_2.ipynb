{
 "cells": [
  {
   "cell_type": "markdown",
   "metadata": {
    "id": "rdQTAtcq0_Ww"
   },
   "source": [
    "# coco data set ile yolo"
   ]
  },
  {
   "cell_type": "code",
   "execution_count": null,
   "metadata": {
    "id": "PDjELAsbV8j6"
   },
   "outputs": [],
   "source": [
    "!pip install ultralytics\n",
    "!pip install opencv-python-headless\n",
    "!pip install matplotlib\n"
   ]
  },
  {
   "cell_type": "code",
   "execution_count": null,
   "metadata": {
    "id": "p3O8UuTBaS12"
   },
   "outputs": [],
   "source": [
    "import cv2\n",
    "import matplotlib.pyplot as plt\n",
    "from ultralytics import YOLO\n"
   ]
  },
  {
   "cell_type": "code",
   "execution_count": null,
   "metadata": {
    "colab": {
     "base_uri": "https://localhost:8080/"
    },
    "id": "yCZ0j6MIaToL",
    "outputId": "808b1766-0c79-4a57-e166-ebbbad8bc3f8"
   },
   "outputs": [],
   "source": [
    "!wget -O example1.jpg http://images.cocodataset.org/val2017/000000397133.jpg\n",
    "!wget -O example2.jpg http://images.cocodataset.org/val2017/000000037777.jpg\n"
   ]
  },
  {
   "cell_type": "code",
   "execution_count": null,
   "metadata": {
    "colab": {
     "base_uri": "https://localhost:8080/"
    },
    "id": "vpQctq4AaYHe",
    "outputId": "7809e662-f98f-4273-9a04-8028edb1f338"
   },
   "outputs": [],
   "source": [
    "model = YOLO('yolov8n.pt')  # En küçük model olan YOLOv8n'yi kullanıyoruz\n"
   ]
  },
  {
   "cell_type": "code",
   "execution_count": null,
   "metadata": {
    "id": "F1HyDeWxaaex"
   },
   "outputs": [],
   "source": [
    "def detect_objects(image_path):\n",
    "    image = cv2.imread(image_path)\n",
    "    image = cv2.cvtColor(image, cv2.COLOR_BGR2RGB)  # OpenCV BGR formatını RGB'ye çevir\n",
    "    results = model(image)[0]\n",
    "\n",
    "    detections = []\n",
    "    for result in results.boxes.data.tolist():\n",
    "        x1, y1, x2, y2, score, class_id = result\n",
    "        detections.append([int(x1), int(y1), int(x2), int(y2), round(score, 3),\n",
    "                           results.names[int(class_id)]])\n",
    "\n",
    "    return detections, image\n"
   ]
  },
  {
   "cell_type": "code",
   "execution_count": null,
   "metadata": {
    "id": "237guk1nadDe"
   },
   "outputs": [],
   "source": [
    "def plot_detections(image, detections):\n",
    "    plt.figure(figsize=(10, 10))\n",
    "    plt.imshow(image)\n",
    "    ax = plt.gca()\n",
    "\n",
    "    for detection in detections:\n",
    "        x1, y1, x2, y2, score, class_name = detection\n",
    "        rect = plt.Rectangle((x1, y1), x2-x1, y2-y1, fill=False, color='red', linewidth=2)\n",
    "        ax.add_patch(rect)\n",
    "        plt.text(x1, y1, f'{class_name} {score}', bbox=dict(facecolor='yellow', alpha=0.5), fontsize=12, color='black')\n",
    "\n",
    "    plt.axis('off')\n",
    "    plt.show()\n"
   ]
  },
  {
   "cell_type": "code",
   "execution_count": null,
   "metadata": {
    "colab": {
     "base_uri": "https://localhost:8080/",
     "height": 1000
    },
    "id": "hjY9dCehafb8",
    "outputId": "87ebe97d-c4f2-4797-d99c-24099b7b2b3c"
   },
   "outputs": [],
   "source": [
    "image_paths = ['example1.jpg', 'example2.jpg']\n",
    "\n",
    "for image_path in image_paths:\n",
    "    detections, image = detect_objects(image_path)\n",
    "    plot_detections(image, detections)\n"
   ]
  },
  {
   "cell_type": "code",
   "execution_count": null,
   "metadata": {
    "colab": {
     "base_uri": "https://localhost:8080/",
     "height": 859
    },
    "id": "pbBmUK6Baied",
    "outputId": "b5a1740b-4b18-4b1d-a800-6866d1bacc05"
   },
   "outputs": [],
   "source": [
    "# Yeni görüntü üzerinde nesne tespiti yapın ve sonuçları görselleştirin\n",
    "image_path = '/content/köpek.jpg'\n",
    "detections, image = detect_objects(image_path)\n",
    "plot_detections(image, detections)"
   ]
  }
 ],
 "metadata": {
  "colab": {
   "provenance": []
  },
  "kernelspec": {
   "display_name": "Python 3 (ipykernel)",
   "language": "python",
   "name": "python3"
  },
  "language_info": {
   "codemirror_mode": {
    "name": "ipython",
    "version": 3
   },
   "file_extension": ".py",
   "mimetype": "text/x-python",
   "name": "python",
   "nbconvert_exporter": "python",
   "pygments_lexer": "ipython3",
   "version": "3.10.12"
  }
 },
 "nbformat": 4,
 "nbformat_minor": 1
}
