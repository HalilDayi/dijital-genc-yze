{
  "cells": [
    {
      "cell_type": "markdown",
      "metadata": {
        "id": "8AC6QIx_ur8-"
      },
      "source": [
        "#CNN Mimarilerinn Karşılaştırılması"
      ]
    },
    {
      "cell_type": "markdown",
      "source": [
        "## Gerekli Kütüphanelerin yüklenmesi"
      ],
      "metadata": {
        "id": "x1TXleixxNHo"
      }
    },
    {
      "cell_type": "code",
      "execution_count": null,
      "metadata": {
        "id": "nLXR_iaLrHqr"
      },
      "outputs": [],
      "source": [
        "# Google Colab'da çalıştırmak için gereken kütüphaneleri yükleyin\n",
        "!pip install tensorflow keras matplotlib\n",
        "\n",
        "import tensorflow as tf\n",
        "from tensorflow.keras.datasets import cifar10\n",
        "from tensorflow.keras.models import Sequential\n",
        "from tensorflow.keras.layers import Conv2D, MaxPooling2D, Dense, Flatten, Dropout\n",
        "from tensorflow.keras.applications import VGG16, InceptionV3, ResNet50, DenseNet121, EfficientNetB0\n",
        "from tensorflow.keras.preprocessing.image import ImageDataGenerator\n",
        "from tensorflow.keras.utils import to_categorical\n",
        "import matplotlib.pyplot as plt\n",
        "import numpy as np\n",
        "from tensorflow.keras.optimizers import Adam\n",
        "from tensorflow.keras import layers, models"
      ]
    },
    {
      "cell_type": "markdown",
      "source": [
        "## Veri setinin yüklenmesi"
      ],
      "metadata": {
        "id": "AYlmhZqKxUK5"
      }
    },
    {
      "cell_type": "code",
      "source": [
        "# CIFAR-10 veri setini yükleyin\n",
        "(x_train, y_train), (x_test, y_test) = cifar10.load_data()\n",
        "\n",
        "input_shape = (32, 32, 3)  # CIFAR-10 için giriş boyutu\n",
        "num_classes = 10"
      ],
      "metadata": {
        "id": "rkKeSFosxW53"
      },
      "execution_count": null,
      "outputs": []
    },
    {
      "cell_type": "markdown",
      "source": [
        "## Normalizasyon"
      ],
      "metadata": {
        "id": "PGHqIinfxbcp"
      }
    },
    {
      "cell_type": "code",
      "source": [
        "# Verileri normalize edin ve etiketleri one-hot formatına dönüştürün\n",
        "x_train, x_test = x_train / 255.0, x_test / 255.0\n",
        "y_train, y_test = to_categorical(y_train), to_categorical(y_test)\n",
        "\n",
        "# Eğitim ve test verilerini artırma\n",
        "datagen = ImageDataGenerator(\n",
        "    width_shift_range=0.1,\n",
        "    height_shift_range=0.1,\n",
        "    horizontal_flip=True\n",
        ")\n",
        "datagen.fit(x_train)\n",
        "\n",
        "# Metrikleri saklamak için boş bir liste oluşturun\n",
        "model_names = []\n",
        "accuracies = []"
      ],
      "metadata": {
        "id": "f2AODXTpxd4F"
      },
      "execution_count": null,
      "outputs": []
    },
    {
      "cell_type": "markdown",
      "source": [
        "#Modellerin Oluşturulması"
      ],
      "metadata": {
        "id": "AsEKwpsxxhys"
      }
    },
    {
      "cell_type": "markdown",
      "source": [
        "## Lenet"
      ],
      "metadata": {
        "id": "xuxzCy_Txlef"
      }
    },
    {
      "cell_type": "code",
      "source": [
        "# Model tanımlama ve eğitim fonksiyonları\n",
        "def create_lenet5():\n",
        "    model = Sequential([\n",
        "        Conv2D(6, (5, 5), activation='tanh', padding='same', input_shape=(32, 32, 3)),\n",
        "        MaxPooling2D(pool_size=(2, 2)),\n",
        "        Conv2D(16, (5, 5), activation='tanh', padding='same'),\n",
        "        MaxPooling2D(pool_size=(2, 2)),\n",
        "        Conv2D(120, (5, 5), activation='tanh', padding='valid'),\n",
        "        Flatten(),\n",
        "        Dense(84, activation='tanh'),\n",
        "        Dense(10, activation='softmax')\n",
        "    ])\n",
        "    model.compile(optimizer='adam', loss='categorical_crossentropy', metrics=['accuracy'])\n",
        "    return model"
      ],
      "metadata": {
        "id": "wShK0uk4xoks"
      },
      "execution_count": null,
      "outputs": []
    },
    {
      "cell_type": "markdown",
      "source": [
        "## Alexnet"
      ],
      "metadata": {
        "id": "4SPeLLBcxq2r"
      }
    },
    {
      "cell_type": "code",
      "source": [
        "def create_alexnet():\n",
        "    model = models.Sequential()\n",
        "\n",
        "    # 1. Konvolüsyonel Katman\n",
        "    model.add(layers.Conv2D(96, (5, 5), strides=(1, 1), activation='relu', input_shape=input_shape, padding='same'))\n",
        "    model.add(layers.MaxPooling2D((2, 2), strides=(2, 2)))\n",
        "\n",
        "    # 2. Konvolüsyonel Katman\n",
        "    model.add(layers.Conv2D(256, (5, 5), activation='relu', padding='same'))\n",
        "    model.add(layers.MaxPooling2D((2, 2), strides=(2, 2)))\n",
        "\n",
        "    # 3. Konvolüsyonel Katman\n",
        "    model.add(layers.Conv2D(384, (3, 3), activation='relu', padding='same'))\n",
        "\n",
        "    # 4. Konvolüsyonel Katman\n",
        "    model.add(layers.Conv2D(384, (3, 3), activation='relu', padding='same'))\n",
        "\n",
        "    # 5. Konvolüsyonel Katman\n",
        "    model.add(layers.Conv2D(256, (3, 3), activation='relu', padding='same'))\n",
        "    model.add(layers.MaxPooling2D((2, 2), strides=(2, 2)))\n",
        "\n",
        "    # Düzleştirme Katmanı\n",
        "    model.add(layers.Flatten())\n",
        "\n",
        "    # Tam Bağlantılı Katmanlar\n",
        "    model.add(layers.Dense(4096, activation='relu'))\n",
        "    model.add(layers.Dropout(0.5))\n",
        "    model.add(layers.Dense(4096, activation='relu'))\n",
        "    model.add(layers.Dropout(0.5))\n",
        "    model.add(layers.Dense(num_classes, activation='softmax'))\n",
        "    model.compile(optimizer=Adam(), loss='categorical_crossentropy', metrics=['accuracy'])\n",
        "    return model"
      ],
      "metadata": {
        "id": "YiynxHx6xsx1"
      },
      "execution_count": null,
      "outputs": []
    },
    {
      "cell_type": "markdown",
      "source": [
        "## VGG"
      ],
      "metadata": {
        "id": "N__krfImxyw4"
      }
    },
    {
      "cell_type": "code",
      "source": [
        "def create_vgg16():\n",
        "    base_model = VGG16(weights=None, input_shape=(32, 32, 3), classes=10)\n",
        "    base_model.compile(optimizer='adam', loss='categorical_crossentropy', metrics=['accuracy'])\n",
        "    return base_model"
      ],
      "metadata": {
        "id": "EgeKPTupxy5o"
      },
      "execution_count": null,
      "outputs": []
    },
    {
      "cell_type": "markdown",
      "source": [
        "## Resnet"
      ],
      "metadata": {
        "id": "uHYTqycEx2pQ"
      }
    },
    {
      "cell_type": "code",
      "source": [
        "def create_resnet():\n",
        "    base_model = ResNet50(weights=None, input_shape=(32, 32, 3), classes=10)\n",
        "    base_model.compile(optimizer='adam', loss='categorical_crossentropy', metrics=['accuracy'])\n",
        "    return base_model"
      ],
      "metadata": {
        "id": "Alo0OSXAx3NL"
      },
      "execution_count": null,
      "outputs": []
    },
    {
      "cell_type": "markdown",
      "source": [
        "## Densnet"
      ],
      "metadata": {
        "id": "hSIV11l_x7KP"
      }
    },
    {
      "cell_type": "code",
      "source": [
        "def create_densenet():\n",
        "    base_model = DenseNet121(weights=None, input_shape=(32, 32, 3), classes=10)\n",
        "    base_model.compile(optimizer='adam', loss='categorical_crossentropy', metrics=['accuracy'])\n",
        "    return base_model"
      ],
      "metadata": {
        "id": "XWl9RXB9x8-W"
      },
      "execution_count": null,
      "outputs": []
    },
    {
      "cell_type": "markdown",
      "source": [
        "## Efficentnet"
      ],
      "metadata": {
        "id": "MUrUcTtTx-5f"
      }
    },
    {
      "cell_type": "code",
      "source": [
        "def create_efficientnet():\n",
        "    base_model = EfficientNetB0(weights=None, input_shape=(32, 32, 3), classes=10)\n",
        "    base_model.compile(optimizer='adam', loss='categorical_crossentropy', metrics=['accuracy'])\n",
        "    return base_model"
      ],
      "metadata": {
        "id": "ZW1zaIlQyAuH"
      },
      "execution_count": null,
      "outputs": []
    },
    {
      "cell_type": "markdown",
      "source": [
        "## Modelleri listeleme"
      ],
      "metadata": {
        "id": "Pk_RAl3PyC2b"
      }
    },
    {
      "cell_type": "code",
      "source": [
        "# Model listesi ve isimler\n",
        "models = [\n",
        "    (create_lenet5(), 'LeNet-5'),\n",
        "    (create_alexnet(), 'AlexNet'),\n",
        "    (create_vgg16(), 'VGG16'),\n",
        "    (create_resnet(), 'ResNet50'),\n",
        "    (create_densenet(), 'DenseNet121'),\n",
        "    (create_efficientnet(), 'EfficientNetB0')\n",
        "]"
      ],
      "metadata": {
        "id": "1q2XHaZ0yEsC"
      },
      "execution_count": null,
      "outputs": []
    },
    {
      "cell_type": "markdown",
      "source": [
        "## Modellerin eğitimi ve doğrulama"
      ],
      "metadata": {
        "id": "Jc6uX_OnyGpD"
      }
    },
    {
      "cell_type": "code",
      "source": [
        "# Her modeli eğitin ve doğruluğunu hesaplayın\n",
        "for model, name in models:\n",
        "    print(f\"Training {name}...\")\n",
        "    history = model.fit(datagen.flow(x_train, y_train, batch_size=64),\n",
        "                        validation_data=(x_test, y_test),\n",
        "                        epochs=10, verbose=1)\n",
        "    _, accuracy = model.evaluate(x_test, y_test, verbose=0)\n",
        "    model_names.append(name)\n",
        "    accuracies.append(accuracy)\n",
        "    print(f\"{name} Test Accuracy: {accuracy:.4f}\")"
      ],
      "metadata": {
        "id": "x1XqdFS3yKWl"
      },
      "execution_count": null,
      "outputs": []
    },
    {
      "cell_type": "markdown",
      "source": [
        "## Modellerin görselleştirilmesi"
      ],
      "metadata": {
        "id": "rTq_s90IyQqo"
      }
    },
    {
      "cell_type": "code",
      "source": [
        "# Sonuçları görselleştirin\n",
        "plt.figure(figsize=(12, 6))\n",
        "plt.bar(model_names, accuracies, color='skyblue')\n",
        "plt.xlabel('Model')\n",
        "plt.ylabel('Doğruluk')\n",
        "plt.title('CNN Mimarileri ve CIFAR-10 Doğruluk Karşılaştırması')\n",
        "plt.show()"
      ],
      "metadata": {
        "id": "i_khGZpeyTJQ"
      },
      "execution_count": null,
      "outputs": []
    }
  ],
  "metadata": {
    "colab": {
      "provenance": [],
      "gpuType": "T4"
    },
    "kernelspec": {
      "display_name": "Python 3",
      "name": "python3"
    },
    "language_info": {
      "name": "python"
    },
    "accelerator": "GPU"
  },
  "nbformat": 4,
  "nbformat_minor": 0
}