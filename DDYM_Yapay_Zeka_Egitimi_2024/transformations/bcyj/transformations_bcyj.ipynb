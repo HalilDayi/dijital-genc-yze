{
 "cells": [
  {
   "cell_type": "code",
   "id": "initial_id",
   "metadata": {
    "collapsed": true,
    "ExecuteTime": {
     "end_time": "2024-07-16T12:33:19.691047Z",
     "start_time": "2024-07-16T12:33:19.687281Z"
    }
   },
   "source": [
    "import matplotlib.pyplot as plotter\n",
    "from transformations import normalize_dataset, standardize_dataset, box_cox, yeo_johnson\n",
    "from pandas import DataFrame, read_csv\n",
    "from scipy.stats import pearsonr"
   ],
   "outputs": [],
   "execution_count": 5
  },
  {
   "cell_type": "code",
   "source": [
    "# Initialize Variables\n",
    "\n",
    "# Plotting variables\n",
    "size = 1000\n",
    "plot_hist_color = 'cyan'\n",
    "plot_hist_alpha = 0.63\n",
    "\n",
    "# Problem Specific Variables\n",
    "output_key = 'OUTPUT'\n",
    "milage_key = 'MIL'\n",
    "year_key = 'YEAR'\n",
    "fuel_consumption_key = 'FCON'\n",
    "condition_key = 'COND'\n",
    "\n",
    "# Data Path\n",
    "file_path = \"data/carprices.csv\""
   ],
   "metadata": {
    "collapsed": false,
    "ExecuteTime": {
     "end_time": "2024-07-16T12:33:19.846809Z",
     "start_time": "2024-07-16T12:33:19.724179Z"
    }
   },
   "id": "dbdc7e93a8676816",
   "outputs": [],
   "execution_count": 6
  },
  {
   "cell_type": "code",
   "source": [
    "chosen_key = fuel_consumption_key"
   ],
   "metadata": {
    "collapsed": false,
    "ExecuteTime": {
     "end_time": "2024-07-16T12:33:19.994544Z",
     "start_time": "2024-07-16T12:33:19.848644Z"
    }
   },
   "id": "254e99d28bf8d0a6",
   "outputs": [],
   "execution_count": 7
  },
  {
   "cell_type": "code",
   "source": [
    "# Load and Present Dataset\n",
    "\n",
    "# Load\n",
    "df_raw = read_csv(file_path)\n",
    "\n",
    "# Show\n",
    "df_raw.head()"
   ],
   "metadata": {
    "collapsed": false,
    "ExecuteTime": {
     "end_time": "2024-07-16T12:33:20.095395Z",
     "start_time": "2024-07-16T12:33:19.995935Z"
    }
   },
   "id": "a71f8a6f036e2277",
   "outputs": [
    {
     "data": {
      "text/plain": [
       "   Unnamed: 0  YEAR    MIL      FCON  COND        OUTPUT\n",
       "0           0  2014  32761  9.414131    75  8.325274e+05\n",
       "1           1  2022  12591  9.037609    68  1.286959e+06\n",
       "2           2  2020  23300  7.954067    52  1.027923e+06\n",
       "3           3  2017  21919  8.320422    69  8.884143e+05\n",
       "4           4  2006  25489  9.137466    85  8.220387e+05"
      ],
      "text/html": [
       "<div>\n",
       "<style scoped>\n",
       "    .dataframe tbody tr th:only-of-type {\n",
       "        vertical-align: middle;\n",
       "    }\n",
       "\n",
       "    .dataframe tbody tr th {\n",
       "        vertical-align: top;\n",
       "    }\n",
       "\n",
       "    .dataframe thead th {\n",
       "        text-align: right;\n",
       "    }\n",
       "</style>\n",
       "<table border=\"1\" class=\"dataframe\">\n",
       "  <thead>\n",
       "    <tr style=\"text-align: right;\">\n",
       "      <th></th>\n",
       "      <th>Unnamed: 0</th>\n",
       "      <th>YEAR</th>\n",
       "      <th>MIL</th>\n",
       "      <th>FCON</th>\n",
       "      <th>COND</th>\n",
       "      <th>OUTPUT</th>\n",
       "    </tr>\n",
       "  </thead>\n",
       "  <tbody>\n",
       "    <tr>\n",
       "      <th>0</th>\n",
       "      <td>0</td>\n",
       "      <td>2014</td>\n",
       "      <td>32761</td>\n",
       "      <td>9.414131</td>\n",
       "      <td>75</td>\n",
       "      <td>8.325274e+05</td>\n",
       "    </tr>\n",
       "    <tr>\n",
       "      <th>1</th>\n",
       "      <td>1</td>\n",
       "      <td>2022</td>\n",
       "      <td>12591</td>\n",
       "      <td>9.037609</td>\n",
       "      <td>68</td>\n",
       "      <td>1.286959e+06</td>\n",
       "    </tr>\n",
       "    <tr>\n",
       "      <th>2</th>\n",
       "      <td>2</td>\n",
       "      <td>2020</td>\n",
       "      <td>23300</td>\n",
       "      <td>7.954067</td>\n",
       "      <td>52</td>\n",
       "      <td>1.027923e+06</td>\n",
       "    </tr>\n",
       "    <tr>\n",
       "      <th>3</th>\n",
       "      <td>3</td>\n",
       "      <td>2017</td>\n",
       "      <td>21919</td>\n",
       "      <td>8.320422</td>\n",
       "      <td>69</td>\n",
       "      <td>8.884143e+05</td>\n",
       "    </tr>\n",
       "    <tr>\n",
       "      <th>4</th>\n",
       "      <td>4</td>\n",
       "      <td>2006</td>\n",
       "      <td>25489</td>\n",
       "      <td>9.137466</td>\n",
       "      <td>85</td>\n",
       "      <td>8.220387e+05</td>\n",
       "    </tr>\n",
       "  </tbody>\n",
       "</table>\n",
       "</div>"
      ]
     },
     "execution_count": 8,
     "metadata": {},
     "output_type": "execute_result"
    }
   ],
   "execution_count": 8
  },
  {
   "cell_type": "code",
   "source": [
    "# Stats, Raw Data\n",
    "\n",
    "print(\"Average: \" + str(df_raw[chosen_key].sum() / len(df_raw[chosen_key])))\n",
    "print(\"Min: \" + str(df_raw[chosen_key].min()))\n",
    "print(\"Max: \" + str(df_raw[chosen_key].max()))"
   ],
   "metadata": {
    "collapsed": false,
    "ExecuteTime": {
     "end_time": "2024-07-16T12:33:20.162620Z",
     "start_time": "2024-07-16T12:33:20.097581Z"
    }
   },
   "id": "78797d1af0b6023d",
   "outputs": [
    {
     "name": "stdout",
     "output_type": "stream",
     "text": [
      "Average: 9.964231000931978\n",
      "Min: 4.0\n",
      "Max: 25.0\n"
     ]
    }
   ],
   "execution_count": 9
  },
  {
   "cell_type": "code",
   "source": [
    "# Plot Raw Data Distribution\n",
    "\n",
    "plotter.hist(df_raw[chosen_key], \n",
    "             25, \n",
    "             density=True, \n",
    "             color=plot_hist_color, \n",
    "             alpha=plot_hist_alpha);"
   ],
   "metadata": {
    "collapsed": false,
    "ExecuteTime": {
     "end_time": "2024-07-16T12:33:20.455337Z",
     "start_time": "2024-07-16T12:33:20.163975Z"
    }
   },
   "id": "820e6ef8b20966a5",
   "outputs": [
    {
     "data": {
      "text/plain": [
       "<Figure size 640x480 with 1 Axes>"
      ],
      "image/png": "[encoded data removed]"
     },
     "metadata": {},
     "output_type": "display_data"
    }
   ],
   "execution_count": 10
  },
  {
   "cell_type": "code",
   "source": [
    "# Normalize Dataset\n",
    "\n",
    "df_norm = normalize_dataset(df_raw, \n",
    "                            all_pos=True)"
   ],
   "metadata": {
    "collapsed": false,
    "ExecuteTime": {
     "end_time": "2024-07-16T12:33:20.490282Z",
     "start_time": "2024-07-16T12:33:20.456525Z"
    }
   },
   "id": "d9828351fb1e3985",
   "outputs": [],
   "execution_count": 11
  },
  {
   "cell_type": "code",
   "source": [
    "# Show Normalized Data\n",
    "\n",
    "df_norm.head()"
   ],
   "metadata": {
    "collapsed": false,
    "ExecuteTime": {
     "end_time": "2024-07-16T12:33:20.646190Z",
     "start_time": "2024-07-16T12:33:20.491550Z"
    }
   },
   "id": "8cf7790b73cd08b4",
   "outputs": [
    {
     "data": {
      "text/plain": [
       "   Unnamed: 0      YEAR       MIL      FCON      COND    OUTPUT\n",
       "0    0.000001  0.705883  0.131045  0.257817  0.642858  0.306534\n",
       "1    0.001002  0.941177  0.050365  0.239887  0.542858  0.575740\n",
       "2    0.002003  0.882354  0.093201  0.188290  0.314287  0.422287\n",
       "3    0.003004  0.794119  0.087677  0.205735  0.557144  0.339641\n",
       "4    0.004005  0.470589  0.101957  0.244642  0.785715  0.300320"
      ],
      "text/html": [
       "<div>\n",
       "<style scoped>\n",
       "    .dataframe tbody tr th:only-of-type {\n",
       "        vertical-align: middle;\n",
       "    }\n",
       "\n",
       "    .dataframe tbody tr th {\n",
       "        vertical-align: top;\n",
       "    }\n",
       "\n",
       "    .dataframe thead th {\n",
       "        text-align: right;\n",
       "    }\n",
       "</style>\n",
       "<table border=\"1\" class=\"dataframe\">\n",
       "  <thead>\n",
       "    <tr style=\"text-align: right;\">\n",
       "      <th></th>\n",
       "      <th>Unnamed: 0</th>\n",
       "      <th>YEAR</th>\n",
       "      <th>MIL</th>\n",
       "      <th>FCON</th>\n",
       "      <th>COND</th>\n",
       "      <th>OUTPUT</th>\n",
       "    </tr>\n",
       "  </thead>\n",
       "  <tbody>\n",
       "    <tr>\n",
       "      <th>0</th>\n",
       "      <td>0.000001</td>\n",
       "      <td>0.705883</td>\n",
       "      <td>0.131045</td>\n",
       "      <td>0.257817</td>\n",
       "      <td>0.642858</td>\n",
       "      <td>0.306534</td>\n",
       "    </tr>\n",
       "    <tr>\n",
       "      <th>1</th>\n",
       "      <td>0.001002</td>\n",
       "      <td>0.941177</td>\n",
       "      <td>0.050365</td>\n",
       "      <td>0.239887</td>\n",
       "      <td>0.542858</td>\n",
       "      <td>0.575740</td>\n",
       "    </tr>\n",
       "    <tr>\n",
       "      <th>2</th>\n",
       "      <td>0.002003</td>\n",
       "      <td>0.882354</td>\n",
       "      <td>0.093201</td>\n",
       "      <td>0.188290</td>\n",
       "      <td>0.314287</td>\n",
       "      <td>0.422287</td>\n",
       "    </tr>\n",
       "    <tr>\n",
       "      <th>3</th>\n",
       "      <td>0.003004</td>\n",
       "      <td>0.794119</td>\n",
       "      <td>0.087677</td>\n",
       "      <td>0.205735</td>\n",
       "      <td>0.557144</td>\n",
       "      <td>0.339641</td>\n",
       "    </tr>\n",
       "    <tr>\n",
       "      <th>4</th>\n",
       "      <td>0.004005</td>\n",
       "      <td>0.470589</td>\n",
       "      <td>0.101957</td>\n",
       "      <td>0.244642</td>\n",
       "      <td>0.785715</td>\n",
       "      <td>0.300320</td>\n",
       "    </tr>\n",
       "  </tbody>\n",
       "</table>\n",
       "</div>"
      ]
     },
     "execution_count": 12,
     "metadata": {},
     "output_type": "execute_result"
    }
   ],
   "execution_count": 12
  },
  {
   "cell_type": "code",
   "source": [
    "# Stats, Normalized Data\n",
    "\n",
    "print(\"Average: \" + str(df_norm[chosen_key].sum() / len(df_norm[chosen_key])))\n",
    "print(\"Min: \" + str(df_norm[chosen_key].min()))\n",
    "print(\"Max: \" + str(df_norm[chosen_key].max()))"
   ],
   "metadata": {
    "collapsed": false,
    "ExecuteTime": {
     "end_time": "2024-07-16T12:33:20.811944Z",
     "start_time": "2024-07-16T12:33:20.647519Z"
    }
   },
   "id": "1edadf28403380d8",
   "outputs": [
    {
     "name": "stdout",
     "output_type": "stream",
     "text": [
      "Average: 0.2840120135687138\n",
      "Min: 1e-06\n",
      "Max: 1.00000104761905\n"
     ]
    }
   ],
   "execution_count": 13
  },
  {
   "cell_type": "code",
   "source": [
    "# Plot Normalized Data Distribution\n",
    "\n",
    "plotter.hist(df_norm[chosen_key], \n",
    "             25, \n",
    "             density=True, \n",
    "             color=plot_hist_color, \n",
    "             alpha=plot_hist_alpha);"
   ],
   "metadata": {
    "collapsed": false,
    "ExecuteTime": {
     "end_time": "2024-07-16T12:33:21.090087Z",
     "start_time": "2024-07-16T12:33:20.813250Z"
    }
   },
   "id": "f1f20bc0178588b9",
   "outputs": [
    {
     "data": {
      "text/plain": [
       "<Figure size 640x480 with 1 Axes>"
      ],
      "image/png": "[encoded data removed]"
     },
     "metadata": {},
     "output_type": "display_data"
    }
   ],
   "execution_count": 14
  },
  {
   "cell_type": "code",
   "source": [
    "# Standardize Dataset\n",
    "\n",
    "df_stan = standardize_dataset(df_raw)"
   ],
   "metadata": {
    "collapsed": false,
    "ExecuteTime": {
     "end_time": "2024-07-16T12:33:21.130085Z",
     "start_time": "2024-07-16T12:33:21.092758Z"
    }
   },
   "id": "25d895415c88fbe7",
   "outputs": [],
   "execution_count": 15
  },
  {
   "cell_type": "code",
   "source": [
    "# Show Standardized Data\n",
    "\n",
    "df_stan.head()"
   ],
   "metadata": {
    "collapsed": false,
    "ExecuteTime": {
     "end_time": "2024-07-16T12:33:21.225726Z",
     "start_time": "2024-07-16T12:33:21.131823Z"
    }
   },
   "id": "7c41d4a6b528ca93",
   "outputs": [
    {
     "data": {
      "text/plain": [
       "   Unnamed: 0      YEAR       MIL      FCON      COND    OUTPUT\n",
       "0   -1.730320  0.054467 -0.687937 -0.175892  0.152710  0.323254\n",
       "1   -1.726856  1.455557 -1.279418 -0.296283 -0.422315  2.468333\n",
       "2   -1.723391  1.105285 -0.965379 -0.642741 -1.736659  1.245593\n",
       "3   -1.719927  0.579876 -1.005876 -0.525601 -0.340169  0.587060\n",
       "4   -1.716463 -1.346623 -0.901187 -0.264355  0.974175  0.273743"
      ],
      "text/html": [
       "<div>\n",
       "<style scoped>\n",
       "    .dataframe tbody tr th:only-of-type {\n",
       "        vertical-align: middle;\n",
       "    }\n",
       "\n",
       "    .dataframe tbody tr th {\n",
       "        vertical-align: top;\n",
       "    }\n",
       "\n",
       "    .dataframe thead th {\n",
       "        text-align: right;\n",
       "    }\n",
       "</style>\n",
       "<table border=\"1\" class=\"dataframe\">\n",
       "  <thead>\n",
       "    <tr style=\"text-align: right;\">\n",
       "      <th></th>\n",
       "      <th>Unnamed: 0</th>\n",
       "      <th>YEAR</th>\n",
       "      <th>MIL</th>\n",
       "      <th>FCON</th>\n",
       "      <th>COND</th>\n",
       "      <th>OUTPUT</th>\n",
       "    </tr>\n",
       "  </thead>\n",
       "  <tbody>\n",
       "    <tr>\n",
       "      <th>0</th>\n",
       "      <td>-1.730320</td>\n",
       "      <td>0.054467</td>\n",
       "      <td>-0.687937</td>\n",
       "      <td>-0.175892</td>\n",
       "      <td>0.152710</td>\n",
       "      <td>0.323254</td>\n",
       "    </tr>\n",
       "    <tr>\n",
       "      <th>1</th>\n",
       "      <td>-1.726856</td>\n",
       "      <td>1.455557</td>\n",
       "      <td>-1.279418</td>\n",
       "      <td>-0.296283</td>\n",
       "      <td>-0.422315</td>\n",
       "      <td>2.468333</td>\n",
       "    </tr>\n",
       "    <tr>\n",
       "      <th>2</th>\n",
       "      <td>-1.723391</td>\n",
       "      <td>1.105285</td>\n",
       "      <td>-0.965379</td>\n",
       "      <td>-0.642741</td>\n",
       "      <td>-1.736659</td>\n",
       "      <td>1.245593</td>\n",
       "    </tr>\n",
       "    <tr>\n",
       "      <th>3</th>\n",
       "      <td>-1.719927</td>\n",
       "      <td>0.579876</td>\n",
       "      <td>-1.005876</td>\n",
       "      <td>-0.525601</td>\n",
       "      <td>-0.340169</td>\n",
       "      <td>0.587060</td>\n",
       "    </tr>\n",
       "    <tr>\n",
       "      <th>4</th>\n",
       "      <td>-1.716463</td>\n",
       "      <td>-1.346623</td>\n",
       "      <td>-0.901187</td>\n",
       "      <td>-0.264355</td>\n",
       "      <td>0.974175</td>\n",
       "      <td>0.273743</td>\n",
       "    </tr>\n",
       "  </tbody>\n",
       "</table>\n",
       "</div>"
      ]
     },
     "execution_count": 16,
     "metadata": {},
     "output_type": "execute_result"
    }
   ],
   "execution_count": 16
  },
  {
   "cell_type": "code",
   "source": [
    "# Stats, Standardized Data\n",
    "\n",
    "print(\"Average: \" + str(df_stan[chosen_key].sum() / len(df_stan[chosen_key])))\n",
    "print(\"Min: \" + str(df_stan[chosen_key].min()))\n",
    "print(\"Max: \" + str(df_stan[chosen_key].max()))"
   ],
   "metadata": {
    "collapsed": false,
    "ExecuteTime": {
     "end_time": "2024-07-16T12:33:21.286710Z",
     "start_time": "2024-07-16T12:33:21.227640Z"
    }
   },
   "id": "8d4de31e77af8991",
   "outputs": [
    {
     "name": "stdout",
     "output_type": "stream",
     "text": [
      "Average: -4.583000645652646e-16\n",
      "Min: -1.9070367014404146\n",
      "Max: 4.807621185551352\n"
     ]
    }
   ],
   "execution_count": 17
  },
  {
   "cell_type": "code",
   "source": [
    "# ADDED TO DELETE\n",
    "\n",
    "for col in df_stan.columns:\n",
    "    print(\"Stats of: \" + str(col))\n",
    "    print(\"Average: \" + str(df_stan[col].sum() / len(df_stan[chosen_key])))\n",
    "    print(\"Min: \" + str(df_stan[col].min()))\n",
    "    print(\"Max: \" + str(df_stan[col].max()))"
   ],
   "metadata": {
    "collapsed": false,
    "ExecuteTime": {
     "end_time": "2024-07-16T12:33:21.362354Z",
     "start_time": "2024-07-16T12:33:21.288126Z"
    }
   },
   "id": "56d00004470af2c9",
   "outputs": [
    {
     "name": "stdout",
     "output_type": "stream",
     "text": [
      "Stats of: Unnamed: 0\n",
      "Average: 0.0\n",
      "Min: -1.7303196219213355\n",
      "Max: 1.7303196219213355\n",
      "Stats of: YEAR\n",
      "Average: -1.3709922086491133e-14\n",
      "Min: -4.148802375692317\n",
      "Max: 1.8058297646909123\n",
      "Stats of: MIL\n",
      "Average: 5.3290705182007515e-18\n",
      "Min: -1.6486456380559542\n",
      "Max: 5.682543738479153\n",
      "Stats of: FCON\n",
      "Average: -4.583000645652646e-16\n",
      "Min: -1.9070367014404146\n",
      "Max: 4.807621185551352\n",
      "Stats of: COND\n",
      "Average: -4.3431924723336123e-16\n",
      "Min: -3.5438809081753684\n",
      "Max: 2.2063720663100574\n",
      "Stats of: OUTPUT\n",
      "Average: 2.255973186038318e-16\n",
      "Min: -2.1192452027226145\n",
      "Max: 5.848911224642409\n"
     ]
    }
   ],
   "execution_count": 18
  },
  {
   "cell_type": "code",
   "source": [
    "# Plot Standardized Data Distribution\n",
    "\n",
    "plotter.hist(df_stan[chosen_key], \n",
    "             25, \n",
    "             density=True, \n",
    "             color=plot_hist_color, \n",
    "             alpha=plot_hist_alpha);"
   ],
   "metadata": {
    "collapsed": false,
    "ExecuteTime": {
     "end_time": "2024-07-16T12:33:21.717620Z",
     "start_time": "2024-07-16T12:33:21.363295Z"
    }
   },
   "id": "dc819b34f4f3de6e",
   "outputs": [
    {
     "data": {
      "text/plain": [
       "<Figure size 640x480 with 1 Axes>"
      ],
      "image/png": "[encoded data removed]"
     },
     "metadata": {},
     "output_type": "display_data"
    }
   ],
   "execution_count": 19
  },
  {
   "cell_type": "code",
   "source": [
    "# Box Cox, Raw out\n",
    "\n",
    "df_bc_raw = DataFrame(box_cox(DataFrame(df_norm[chosen_key], \n",
    "                                        columns=[chosen_key])), \n",
    "                      columns=[chosen_key])\n",
    "\n",
    "plotter.hist(df_bc_raw[chosen_key], \n",
    "             25, \n",
    "             density=True, \n",
    "             color=plot_hist_color, \n",
    "             alpha=plot_hist_alpha);"
   ],
   "metadata": {
    "collapsed": false,
    "ExecuteTime": {
     "end_time": "2024-07-16T12:33:21.857556Z",
     "start_time": "2024-07-16T12:33:21.719143Z"
    }
   },
   "id": "3bc49bc7f7fb26",
   "outputs": [
    {
     "data": {
      "text/plain": [
       "<Figure size 640x480 with 1 Axes>"
      ],
      "image/png": "[encoded data removed]"
     },
     "metadata": {},
     "output_type": "display_data"
    }
   ],
   "execution_count": 20
  },
  {
   "cell_type": "code",
   "source": [
    "# Box Cox, Normalize After\n",
    "\n",
    "df_bc_norm = DataFrame(box_cox(DataFrame(df_norm[chosen_key], columns=[chosen_key]), normalize=True), columns=[chosen_key])\n",
    "\n",
    "plotter.hist(df_bc_norm[chosen_key], \n",
    "             25, \n",
    "             density=True, \n",
    "             color=plot_hist_color, \n",
    "             alpha=plot_hist_alpha);"
   ],
   "metadata": {
    "collapsed": false,
    "ExecuteTime": {
     "end_time": "2024-07-16T12:33:22.011381Z",
     "start_time": "2024-07-16T12:33:21.858680Z"
    }
   },
   "id": "a479128673e43c0a",
   "outputs": [
    {
     "data": {
      "text/plain": [
       "<Figure size 640x480 with 1 Axes>"
      ],
      "image/png": "[encoded data removed]"
     },
     "metadata": {},
     "output_type": "display_data"
    }
   ],
   "execution_count": 21
  },
  {
   "cell_type": "code",
   "source": [
    "# Box Cox, Standardize After\n",
    "\n",
    "df_bc_stan = DataFrame(box_cox(DataFrame(df_norm[chosen_key], \n",
    "                                         columns=[chosen_key]), \n",
    "                               standardize=True), \n",
    "                       columns=[chosen_key])\n",
    "\n",
    "plotter.hist(df_bc_stan[chosen_key], \n",
    "             25, \n",
    "             density=True, \n",
    "             color=plot_hist_color, \n",
    "             alpha=plot_hist_alpha);"
   ],
   "metadata": {
    "collapsed": false,
    "ExecuteTime": {
     "end_time": "2024-07-16T12:33:22.209117Z",
     "start_time": "2024-07-16T12:33:22.012624Z"
    }
   },
   "id": "70168e817a6c8197",
   "outputs": [
    {
     "data": {
      "text/plain": [
       "<Figure size 640x480 with 1 Axes>"
      ],
      "image/png": "[encoded data removed]"
     },
     "metadata": {},
     "output_type": "display_data"
    }
   ],
   "execution_count": 22
  },
  {
   "cell_type": "code",
   "source": [
    "# Box Cox Data Inspection\n",
    "\n",
    "df_temp = DataFrame({'raw': df_raw[chosen_key],\n",
    "                     'norm': df_norm[chosen_key],\n",
    "                     'bc_raw': df_bc_raw[chosen_key],\n",
    "                     'bc_norm': df_bc_norm[chosen_key],\n",
    "                     'bc_stan': df_bc_stan[chosen_key]})\n",
    "\n",
    "df_temp.head()"
   ],
   "metadata": {
    "collapsed": false,
    "ExecuteTime": {
     "end_time": "2024-07-16T12:33:22.221314Z",
     "start_time": "2024-07-16T12:33:22.210554Z"
    }
   },
   "id": "bdfd92a387b5aa1a",
   "outputs": [
    {
     "data": {
      "text/plain": [
       "        raw      norm    bc_raw   bc_norm   bc_stan\n",
       "0  9.414131  0.257817 -1.039113  0.571209 -0.026086\n",
       "1  9.037609  0.239887 -1.079785  0.554426 -0.156494\n",
       "2  7.954067  0.188290 -1.207939  0.501543 -0.567394\n",
       "3  8.320422  0.205735 -1.162526  0.520283 -0.421785\n",
       "4  9.137466  0.244642 -1.068829  0.558947 -0.121365"
      ],
      "text/html": [
       "<div>\n",
       "<style scoped>\n",
       "    .dataframe tbody tr th:only-of-type {\n",
       "        vertical-align: middle;\n",
       "    }\n",
       "\n",
       "    .dataframe tbody tr th {\n",
       "        vertical-align: top;\n",
       "    }\n",
       "\n",
       "    .dataframe thead th {\n",
       "        text-align: right;\n",
       "    }\n",
       "</style>\n",
       "<table border=\"1\" class=\"dataframe\">\n",
       "  <thead>\n",
       "    <tr style=\"text-align: right;\">\n",
       "      <th></th>\n",
       "      <th>raw</th>\n",
       "      <th>norm</th>\n",
       "      <th>bc_raw</th>\n",
       "      <th>bc_norm</th>\n",
       "      <th>bc_stan</th>\n",
       "    </tr>\n",
       "  </thead>\n",
       "  <tbody>\n",
       "    <tr>\n",
       "      <th>0</th>\n",
       "      <td>9.414131</td>\n",
       "      <td>0.257817</td>\n",
       "      <td>-1.039113</td>\n",
       "      <td>0.571209</td>\n",
       "      <td>-0.026086</td>\n",
       "    </tr>\n",
       "    <tr>\n",
       "      <th>1</th>\n",
       "      <td>9.037609</td>\n",
       "      <td>0.239887</td>\n",
       "      <td>-1.079785</td>\n",
       "      <td>0.554426</td>\n",
       "      <td>-0.156494</td>\n",
       "    </tr>\n",
       "    <tr>\n",
       "      <th>2</th>\n",
       "      <td>7.954067</td>\n",
       "      <td>0.188290</td>\n",
       "      <td>-1.207939</td>\n",
       "      <td>0.501543</td>\n",
       "      <td>-0.567394</td>\n",
       "    </tr>\n",
       "    <tr>\n",
       "      <th>3</th>\n",
       "      <td>8.320422</td>\n",
       "      <td>0.205735</td>\n",
       "      <td>-1.162526</td>\n",
       "      <td>0.520283</td>\n",
       "      <td>-0.421785</td>\n",
       "    </tr>\n",
       "    <tr>\n",
       "      <th>4</th>\n",
       "      <td>9.137466</td>\n",
       "      <td>0.244642</td>\n",
       "      <td>-1.068829</td>\n",
       "      <td>0.558947</td>\n",
       "      <td>-0.121365</td>\n",
       "    </tr>\n",
       "  </tbody>\n",
       "</table>\n",
       "</div>"
      ]
     },
     "execution_count": 23,
     "metadata": {},
     "output_type": "execute_result"
    }
   ],
   "execution_count": 23
  },
  {
   "cell_type": "code",
   "source": [
    "# Yeo Johnson, Raw\n",
    "\n",
    "df_yj_raw = DataFrame(yeo_johnson(DataFrame(df_norm[chosen_key], \n",
    "                                            columns=[chosen_key])), \n",
    "                      columns=[chosen_key])\n",
    "\n",
    "plotter.hist(df_yj_raw[chosen_key], \n",
    "             25, \n",
    "             density=True, \n",
    "             color=plot_hist_color, \n",
    "             alpha=plot_hist_alpha);"
   ],
   "metadata": {
    "collapsed": false,
    "ExecuteTime": {
     "end_time": "2024-07-16T12:33:22.531568Z",
     "start_time": "2024-07-16T12:33:22.223082Z"
    }
   },
   "id": "a5b6ed83cc671769",
   "outputs": [
    {
     "data": {
      "text/plain": [
       "<Figure size 640x480 with 1 Axes>"
      ],
      "image/png": "[encoded data removed]"
     },
     "metadata": {},
     "output_type": "display_data"
    }
   ],
   "execution_count": 24
  },
  {
   "cell_type": "code",
   "source": [
    "df_yj_norm = DataFrame(yeo_johnson(DataFrame(df_norm[chosen_key], columns=[chosen_key]), normalize=True), columns=[chosen_key])\n",
    "\n",
    "plotter.hist(df_yj_norm[chosen_key], \n",
    "             25, \n",
    "             density=True, \n",
    "             color=plot_hist_color, \n",
    "             alpha=plot_hist_alpha);"
   ],
   "metadata": {
    "collapsed": false,
    "ExecuteTime": {
     "end_time": "2024-07-16T12:33:22.680436Z",
     "start_time": "2024-07-16T12:33:22.533216Z"
    }
   },
   "id": "156ea178d52d8059",
   "outputs": [
    {
     "data": {
      "text/plain": [
       "<Figure size 640x480 with 1 Axes>"
      ],
      "image/png": "[encoded data removed]"
     },
     "metadata": {},
     "output_type": "display_data"
    }
   ],
   "execution_count": 25
  },
  {
   "cell_type": "code",
   "source": [
    "df_yj_stan = DataFrame(yeo_johnson(DataFrame(df_norm[chosen_key], columns=[chosen_key]), standardize=True), columns=[chosen_key])\n",
    "\n",
    "plotter.hist(df_yj_stan[chosen_key], \n",
    "             25, \n",
    "             density=True, \n",
    "             color=plot_hist_color, \n",
    "             alpha=plot_hist_alpha);"
   ],
   "metadata": {
    "collapsed": false,
    "ExecuteTime": {
     "end_time": "2024-07-16T12:33:22.802829Z",
     "start_time": "2024-07-16T12:33:22.682032Z"
    }
   },
   "id": "9f2b586c127b8375",
   "outputs": [
    {
     "data": {
      "text/plain": [
       "<Figure size 640x480 with 1 Axes>"
      ],
      "image/png": "[encoded data removed]"
     },
     "metadata": {},
     "output_type": "display_data"
    }
   ],
   "execution_count": 26
  },
  {
   "cell_type": "code",
   "source": [
    "# Yeo Johnson Inspection\n",
    "\n",
    "df_temp = DataFrame({'raw': df_raw[chosen_key],\n",
    "                     'norm': df_norm[chosen_key],\n",
    "                     'bc_raw': df_bc_raw[chosen_key],\n",
    "                     'bc_norm': df_bc_norm[chosen_key],\n",
    "                     'bc_stan': df_bc_stan[chosen_key],\n",
    "                     'yj_raw': df_yj_raw[chosen_key],\n",
    "                     'yj_norm': df_yj_norm[chosen_key],\n",
    "                     'yj_stan': df_yj_stan[chosen_key]})\n",
    "\n",
    "df_temp.head()"
   ],
   "metadata": {
    "collapsed": false,
    "ExecuteTime": {
     "end_time": "2024-07-16T12:33:22.817344Z",
     "start_time": "2024-07-16T12:33:22.804291Z"
    }
   },
   "id": "722a766bf5de18ee",
   "outputs": [
    {
     "data": {
      "text/plain": [
       "        raw      norm    bc_raw   bc_norm   bc_stan    yj_raw   yj_norm  \\\n",
       "0  9.414131  0.257817 -1.039113  0.571209 -0.026086  0.179343  0.509781   \n",
       "1  9.037609  0.239887 -1.079785  0.554426 -0.156494  0.170618  0.484979   \n",
       "2  7.954067  0.188290 -1.207939  0.501543 -0.567394  0.143076  0.406691   \n",
       "3  8.320422  0.205735 -1.162526  0.520283 -0.421785  0.152817  0.434379   \n",
       "4  9.137466  0.244642 -1.068829  0.558947 -0.121365  0.172972  0.491669   \n",
       "\n",
       "    yj_stan  \n",
       "0 -0.010929  \n",
       "1 -0.151984  \n",
       "2 -0.597214  \n",
       "3 -0.439749  \n",
       "4 -0.113933  "
      ],
      "text/html": [
       "<div>\n",
       "<style scoped>\n",
       "    .dataframe tbody tr th:only-of-type {\n",
       "        vertical-align: middle;\n",
       "    }\n",
       "\n",
       "    .dataframe tbody tr th {\n",
       "        vertical-align: top;\n",
       "    }\n",
       "\n",
       "    .dataframe thead th {\n",
       "        text-align: right;\n",
       "    }\n",
       "</style>\n",
       "<table border=\"1\" class=\"dataframe\">\n",
       "  <thead>\n",
       "    <tr style=\"text-align: right;\">\n",
       "      <th></th>\n",
       "      <th>raw</th>\n",
       "      <th>norm</th>\n",
       "      <th>bc_raw</th>\n",
       "      <th>bc_norm</th>\n",
       "      <th>bc_stan</th>\n",
       "      <th>yj_raw</th>\n",
       "      <th>yj_norm</th>\n",
       "      <th>yj_stan</th>\n",
       "    </tr>\n",
       "  </thead>\n",
       "  <tbody>\n",
       "    <tr>\n",
       "      <th>0</th>\n",
       "      <td>9.414131</td>\n",
       "      <td>0.257817</td>\n",
       "      <td>-1.039113</td>\n",
       "      <td>0.571209</td>\n",
       "      <td>-0.026086</td>\n",
       "      <td>0.179343</td>\n",
       "      <td>0.509781</td>\n",
       "      <td>-0.010929</td>\n",
       "    </tr>\n",
       "    <tr>\n",
       "      <th>1</th>\n",
       "      <td>9.037609</td>\n",
       "      <td>0.239887</td>\n",
       "      <td>-1.079785</td>\n",
       "      <td>0.554426</td>\n",
       "      <td>-0.156494</td>\n",
       "      <td>0.170618</td>\n",
       "      <td>0.484979</td>\n",
       "      <td>-0.151984</td>\n",
       "    </tr>\n",
       "    <tr>\n",
       "      <th>2</th>\n",
       "      <td>7.954067</td>\n",
       "      <td>0.188290</td>\n",
       "      <td>-1.207939</td>\n",
       "      <td>0.501543</td>\n",
       "      <td>-0.567394</td>\n",
       "      <td>0.143076</td>\n",
       "      <td>0.406691</td>\n",
       "      <td>-0.597214</td>\n",
       "    </tr>\n",
       "    <tr>\n",
       "      <th>3</th>\n",
       "      <td>8.320422</td>\n",
       "      <td>0.205735</td>\n",
       "      <td>-1.162526</td>\n",
       "      <td>0.520283</td>\n",
       "      <td>-0.421785</td>\n",
       "      <td>0.152817</td>\n",
       "      <td>0.434379</td>\n",
       "      <td>-0.439749</td>\n",
       "    </tr>\n",
       "    <tr>\n",
       "      <th>4</th>\n",
       "      <td>9.137466</td>\n",
       "      <td>0.244642</td>\n",
       "      <td>-1.068829</td>\n",
       "      <td>0.558947</td>\n",
       "      <td>-0.121365</td>\n",
       "      <td>0.172972</td>\n",
       "      <td>0.491669</td>\n",
       "      <td>-0.113933</td>\n",
       "    </tr>\n",
       "  </tbody>\n",
       "</table>\n",
       "</div>"
      ]
     },
     "execution_count": 27,
     "metadata": {},
     "output_type": "execute_result"
    }
   ],
   "execution_count": 27
  },
  {
   "cell_type": "code",
   "source": [
    "print(\"Correlation (RAW): \" + str(pearsonr(df_raw[chosen_key], df_raw[output_key])[0]))\n",
    "print(\"Correlation (Norm): \" + str(pearsonr(df_norm[chosen_key], df_norm[output_key])[0]))\n",
    "print(\"Correlation (Stan): \" + str(pearsonr(df_stan[chosen_key], df_stan[output_key])[0]))\n",
    "print(\"Box Cox Transformation (RAW)\" + str(str(pearsonr(df_bc_raw[chosen_key], df_norm[output_key])[0])))\n",
    "print(\"Box Cox Transformation (Norm)\" + str(str(pearsonr(df_bc_norm[chosen_key], df_norm[output_key])[0])))\n",
    "print(\"Box Cox Transformation (Stan)\" + str(str(pearsonr(df_bc_stan[chosen_key], df_norm[output_key])[0])))\n",
    "print(\"Yeo Johnson Transformation (RAW)\" + str(str(pearsonr(df_yj_raw[chosen_key], df_norm[output_key])[0])))\n",
    "print(\"Yeo Johnson Transformation (Norm)\" + str(str(pearsonr(df_yj_norm[chosen_key], df_norm[output_key])[0])))\n",
    "print(\"Yeo Johnson Transformation (Stan)\" + str(str(pearsonr(df_yj_stan[chosen_key], df_norm[output_key])[0])))"
   ],
   "metadata": {
    "collapsed": false,
    "ExecuteTime": {
     "end_time": "2024-07-16T12:33:22.986850Z",
     "start_time": "2024-07-16T12:33:22.818821Z"
    }
   },
   "id": "f0657e00402ae422",
   "outputs": [
    {
     "name": "stdout",
     "output_type": "stream",
     "text": [
      "Correlation (RAW): 0.08641683255439643\n",
      "Correlation (Norm): 0.08641683255439642\n",
      "Correlation (Stan): 0.08641683255439642\n",
      "Box Cox Transformation (RAW)0.0984766775601495\n",
      "Box Cox Transformation (Norm)0.09847667756014952\n",
      "Box Cox Transformation (Stan)0.09847667756014954\n",
      "Yeo Johnson Transformation (RAW)0.10013603332059161\n",
      "Yeo Johnson Transformation (Norm)0.1001360333205916\n",
      "Yeo Johnson Transformation (Stan)0.10013603332059157\n"
     ]
    }
   ],
   "execution_count": 28
  }
 ],
 "metadata": {
  "kernelspec": {
   "display_name": "Python 3",
   "language": "python",
   "name": "python3"
  },
  "language_info": {
   "codemirror_mode": {
    "name": "ipython",
    "version": 2
   },
   "file_extension": ".py",
   "mimetype": "text/x-python",
   "name": "python",
   "nbconvert_exporter": "python",
   "pygments_lexer": "ipython2",
   "version": "2.7.6"
  }
 },
 "nbformat": 4,
 "nbformat_minor": 5
}
