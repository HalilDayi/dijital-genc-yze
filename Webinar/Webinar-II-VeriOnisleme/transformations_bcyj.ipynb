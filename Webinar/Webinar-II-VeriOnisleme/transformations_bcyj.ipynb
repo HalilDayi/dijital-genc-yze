{
 "cells": [
  {
   "cell_type": "code",
   "execution_count": null,
   "id": "initial_id",
   "metadata": {
    "collapsed": true
   },
   "outputs": [],
   "source": [
    "import matplotlib.pyplot as plotter\n",
    "from transformations import normalize_dataset, standardize_dataset, box_cox, yeo_johnson\n",
    "from pandas import DataFrame, read_csv\n",
    "from scipy.stats import pearsonr"
   ]
  },
  {
   "cell_type": "code",
   "outputs": [],
   "source": [
    "# Initialize Variables\n",
    "\n",
    "# Plotting variables\n",
    "size = 1000\n",
    "plot_hist_color = 'cyan'\n",
    "plot_hist_alpha = 0.63\n",
    "\n",
    "# Problem Specific Variables\n",
    "output_key = 'OUTPUT'\n",
    "milage_key = 'MIL'\n",
    "year_key = 'YEAR'\n",
    "fuel_consumption_key = 'FCON'\n",
    "condition_key = 'COND'\n",
    "\n",
    "# Data Path\n",
    "file_path = \"data/carprices.csv\""
   ],
   "metadata": {
    "collapsed": false
   },
   "id": "dbdc7e93a8676816",
   "execution_count": null
  },
  {
   "cell_type": "code",
   "outputs": [],
   "source": [
    "chosen_key = fuel_consumption_key"
   ],
   "metadata": {
    "collapsed": false
   },
   "id": "254e99d28bf8d0a6",
   "execution_count": null
  },
  {
   "cell_type": "code",
   "outputs": [],
   "source": [
    "# Load and Present Dataset\n",
    "\n",
    "# Load\n",
    "df_raw = read_csv(file_path)\n",
    "\n",
    "# Show\n",
    "df_raw.head()"
   ],
   "metadata": {
    "collapsed": false
   },
   "id": "a71f8a6f036e2277",
   "execution_count": null
  },
  {
   "cell_type": "code",
   "outputs": [],
   "source": [
    "# Stats, Raw Data\n",
    "\n",
    "print(\"Average: \" + str(df_raw[chosen_key].sum() / len(df_raw[chosen_key])))\n",
    "print(\"Min: \" + str(df_raw[chosen_key].min()))\n",
    "print(\"Max: \" + str(df_raw[chosen_key].max()))"
   ],
   "metadata": {
    "collapsed": false
   },
   "id": "78797d1af0b6023d",
   "execution_count": null
  },
  {
   "cell_type": "code",
   "outputs": [],
   "source": [
    "# Plot Raw Data Distribution\n",
    "\n",
    "plotter.hist(df_raw[chosen_key], \n",
    "             25, \n",
    "             density=True, \n",
    "             color=plot_hist_color, \n",
    "             alpha=plot_hist_alpha);"
   ],
   "metadata": {
    "collapsed": false
   },
   "id": "820e6ef8b20966a5",
   "execution_count": null
  },
  {
   "cell_type": "code",
   "outputs": [],
   "source": [
    "# Normalize Dataset\n",
    "\n",
    "df_norm = normalize_dataset(df_raw, \n",
    "                            all_pos=True)"
   ],
   "metadata": {
    "collapsed": false
   },
   "id": "d9828351fb1e3985",
   "execution_count": null
  },
  {
   "cell_type": "code",
   "outputs": [],
   "source": [
    "# Show Normalized Data\n",
    "\n",
    "df_norm.head()"
   ],
   "metadata": {
    "collapsed": false
   },
   "id": "8cf7790b73cd08b4",
   "execution_count": null
  },
  {
   "cell_type": "code",
   "outputs": [],
   "source": [
    "# Stats, Normalized Data\n",
    "\n",
    "print(\"Average: \" + str(df_norm[chosen_key].sum() / len(df_norm[chosen_key])))\n",
    "print(\"Min: \" + str(df_norm[chosen_key].min()))\n",
    "print(\"Max: \" + str(df_norm[chosen_key].max()))"
   ],
   "metadata": {
    "collapsed": false
   },
   "id": "1edadf28403380d8",
   "execution_count": null
  },
  {
   "cell_type": "code",
   "outputs": [],
   "source": [
    "# Plot Normalized Data Distribution\n",
    "\n",
    "plotter.hist(df_norm[chosen_key], \n",
    "             25, \n",
    "             density=True, \n",
    "             color=plot_hist_color, \n",
    "             alpha=plot_hist_alpha);"
   ],
   "metadata": {
    "collapsed": false
   },
   "id": "f1f20bc0178588b9",
   "execution_count": null
  },
  {
   "cell_type": "code",
   "outputs": [],
   "source": [
    "# Standardize Dataset\n",
    "\n",
    "df_stan = standardize_dataset(df_raw)"
   ],
   "metadata": {
    "collapsed": false
   },
   "id": "25d895415c88fbe7",
   "execution_count": null
  },
  {
   "cell_type": "code",
   "outputs": [],
   "source": [
    "# Show Standardized Data\n",
    "\n",
    "df_stan.head()"
   ],
   "metadata": {
    "collapsed": false
   },
   "id": "7c41d4a6b528ca93",
   "execution_count": null
  },
  {
   "cell_type": "code",
   "outputs": [],
   "source": [
    "# Stats, Standardized Data\n",
    "\n",
    "print(\"Average: \" + str(df_stan[chosen_key].sum() / len(df_stan[chosen_key])))\n",
    "print(\"Min: \" + str(df_stan[chosen_key].min()))\n",
    "print(\"Max: \" + str(df_stan[chosen_key].max()))"
   ],
   "metadata": {
    "collapsed": false
   },
   "id": "8d4de31e77af8991",
   "execution_count": null
  },
  {
   "cell_type": "code",
   "outputs": [],
   "source": [
    "# Plot Standardized Data Distribution\n",
    "\n",
    "plotter.hist(df_stan[chosen_key], \n",
    "             25, \n",
    "             density=True, \n",
    "             color=plot_hist_color, \n",
    "             alpha=plot_hist_alpha);"
   ],
   "metadata": {
    "collapsed": false
   },
   "id": "dc819b34f4f3de6e",
   "execution_count": null
  },
  {
   "cell_type": "code",
   "outputs": [],
   "source": [
    "# Box Cox, Raw out\n",
    "\n",
    "df_bc_raw = DataFrame(box_cox(DataFrame(df_norm[chosen_key], \n",
    "                                        columns=[chosen_key])), \n",
    "                      columns=[chosen_key])\n",
    "\n",
    "plotter.hist(df_bc_raw[chosen_key], \n",
    "             25, \n",
    "             density=True, \n",
    "             color=plot_hist_color, \n",
    "             alpha=plot_hist_alpha);"
   ],
   "metadata": {
    "collapsed": false
   },
   "id": "3bc49bc7f7fb26",
   "execution_count": null
  },
  {
   "cell_type": "code",
   "outputs": [],
   "source": [
    "# Box Cox, Normalize After\n",
    "\n",
    "df_bc_norm = DataFrame(box_cox(DataFrame(df_norm[chosen_key], columns=[chosen_key]), normalize=True), columns=[chosen_key])\n",
    "\n",
    "plotter.hist(df_bc_norm[chosen_key], \n",
    "             25, \n",
    "             density=True, \n",
    "             color=plot_hist_color, \n",
    "             alpha=plot_hist_alpha);"
   ],
   "metadata": {
    "collapsed": false
   },
   "id": "a479128673e43c0a",
   "execution_count": null
  },
  {
   "cell_type": "code",
   "outputs": [],
   "source": [
    "# Box Cox, Standardize After\n",
    "\n",
    "df_bc_stan = DataFrame(box_cox(DataFrame(df_norm[chosen_key], \n",
    "                                         columns=[chosen_key]), \n",
    "                               standardize=True), \n",
    "                       columns=[chosen_key])\n",
    "\n",
    "plotter.hist(df_bc_stan[chosen_key], \n",
    "             25, \n",
    "             density=True, \n",
    "             color=plot_hist_color, \n",
    "             alpha=plot_hist_alpha);"
   ],
   "metadata": {
    "collapsed": false
   },
   "id": "70168e817a6c8197",
   "execution_count": null
  },
  {
   "cell_type": "code",
   "outputs": [],
   "source": [
    "# Box Cox Data Inspection\n",
    "\n",
    "df_temp = DataFrame({'raw': df_raw[chosen_key],\n",
    "                     'norm': df_norm[chosen_key],\n",
    "                     'bc_raw': df_bc_raw[chosen_key],\n",
    "                     'bc_norm': df_bc_norm[chosen_key],\n",
    "                     'bc_stan': df_bc_stan[chosen_key]})\n",
    "\n",
    "df_temp.head()"
   ],
   "metadata": {
    "collapsed": false
   },
   "id": "bdfd92a387b5aa1a",
   "execution_count": null
  },
  {
   "cell_type": "code",
   "outputs": [],
   "source": [
    "# Yeo Johnson, Raw\n",
    "\n",
    "df_yj_raw = DataFrame(yeo_johnson(DataFrame(df_norm[chosen_key], \n",
    "                                            columns=[chosen_key])), \n",
    "                      columns=[chosen_key])\n",
    "\n",
    "plotter.hist(df_yj_raw[chosen_key], \n",
    "             25, \n",
    "             density=True, \n",
    "             color=plot_hist_color, \n",
    "             alpha=plot_hist_alpha);"
   ],
   "metadata": {
    "collapsed": false
   },
   "id": "a5b6ed83cc671769",
   "execution_count": null
  },
  {
   "cell_type": "code",
   "outputs": [],
   "source": [
    "df_yj_norm = DataFrame(yeo_johnson(DataFrame(df_norm[chosen_key], columns=[chosen_key]), normalize=True), columns=[chosen_key])\n",
    "\n",
    "plotter.hist(df_yj_norm[chosen_key], \n",
    "             25, \n",
    "             density=True, \n",
    "             color=plot_hist_color, \n",
    "             alpha=plot_hist_alpha);"
   ],
   "metadata": {
    "collapsed": false
   },
   "id": "156ea178d52d8059",
   "execution_count": null
  },
  {
   "cell_type": "code",
   "outputs": [],
   "source": [
    "df_yj_stan = DataFrame(yeo_johnson(DataFrame(df_norm[chosen_key], columns=[chosen_key]), standardize=True), columns=[chosen_key])\n",
    "\n",
    "plotter.hist(df_yj_stan[chosen_key], \n",
    "             25, \n",
    "             density=True, \n",
    "             color=plot_hist_color, \n",
    "             alpha=plot_hist_alpha);"
   ],
   "metadata": {
    "collapsed": false
   },
   "id": "9f2b586c127b8375",
   "execution_count": null
  },
  {
   "cell_type": "code",
   "outputs": [],
   "source": [
    "# Yeo Johnson Inspection\n",
    "\n",
    "df_temp = DataFrame({'raw': df_raw[chosen_key],\n",
    "                     'norm': df_norm[chosen_key],\n",
    "                     'bc_raw': df_bc_raw[chosen_key],\n",
    "                     'bc_norm': df_bc_norm[chosen_key],\n",
    "                     'bc_stan': df_bc_stan[chosen_key],\n",
    "                     'yj_raw': df_yj_raw[chosen_key],\n",
    "                     'yj_norm': df_yj_norm[chosen_key],\n",
    "                     'yj_stan': df_yj_stan[chosen_key]})\n",
    "\n",
    "df_temp.head()"
   ],
   "metadata": {
    "collapsed": false
   },
   "id": "722a766bf5de18ee",
   "execution_count": null
  },
  {
   "cell_type": "code",
   "outputs": [],
   "source": [
    "print(\"Correlation (RAW): \" + str(pearsonr(df_raw[chosen_key], df_raw[output_key])[0]))\n",
    "print(\"Correlation (Norm): \" + str(pearsonr(df_norm[chosen_key], df_norm[output_key])[0]))\n",
    "print(\"Correlation (Stan): \" + str(pearsonr(df_stan[chosen_key], df_stan[output_key])[0]))\n",
    "print(\"Box Cox Transformation (RAW)\" + str(str(pearsonr(df_bc_raw[chosen_key], df_norm[output_key])[0])))\n",
    "print(\"Box Cox Transformation (Norm)\" + str(str(pearsonr(df_bc_norm[chosen_key], df_norm[output_key])[0])))\n",
    "print(\"Box Cox Transformation (Stan)\" + str(str(pearsonr(df_bc_stan[chosen_key], df_norm[output_key])[0])))\n",
    "print(\"Yeo Johnson Transformation (RAW)\" + str(str(pearsonr(df_yj_raw[chosen_key], df_norm[output_key])[0])))\n",
    "print(\"Yeo Johnson Transformation (Norm)\" + str(str(pearsonr(df_yj_norm[chosen_key], df_norm[output_key])[0])))\n",
    "print(\"Yeo Johnson Transformation (Stan)\" + str(str(pearsonr(df_yj_stan[chosen_key], df_norm[output_key])[0])))"
   ],
   "metadata": {
    "collapsed": false
   },
   "id": "f0657e00402ae422",
   "execution_count": null
  }
 ],
 "metadata": {
  "kernelspec": {
   "display_name": "Python 3",
   "language": "python",
   "name": "python3"
  },
  "language_info": {
   "codemirror_mode": {
    "name": "ipython",
    "version": 2
   },
   "file_extension": ".py",
   "mimetype": "text/x-python",
   "name": "python",
   "nbconvert_exporter": "python",
   "pygments_lexer": "ipython2",
   "version": "2.7.6"
  }
 },
 "nbformat": 4,
 "nbformat_minor": 5
}
